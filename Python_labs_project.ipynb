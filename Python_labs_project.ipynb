{
 "cells": [
  {
   "cell_type": "markdown",
   "id": "2729131c",
   "metadata": {
    "tags": [
     "Project_plan"
    ]
   },
   "source": [
    "Project plan\n",
    "\n",
    "1. problem formulation :  \n",
    "Context : we have been instructed to predict books ratings via a machine learning application from provided data.  \n",
    "2. Data preprocessing\n",
    "3. EDA\n",
    "4. features engineering \n",
    "5. modelling & Machine learning \n",
    "6. Model validation\n",
    "7. deployment"
   ]
  },
  {
   "cell_type": "code",
   "execution_count": 553,
   "id": "4f6b1fb5",
   "metadata": {},
   "outputs": [],
   "source": [
    "#!conda env list"
   ]
  },
  {
   "cell_type": "code",
   "execution_count": 554,
   "id": "42ab7ab5",
   "metadata": {},
   "outputs": [],
   "source": [
    "# activate environment \n",
    "#!conda init bash\n",
    "#!conda activate Project1"
   ]
  },
  {
   "cell_type": "code",
   "execution_count": 555,
   "id": "ea7c92fb",
   "metadata": {},
   "outputs": [],
   "source": [
    "#pip install statsmodels"
   ]
  },
  {
   "cell_type": "code",
   "execution_count": 556,
   "id": "002c5c79",
   "metadata": {},
   "outputs": [],
   "source": [
    "# load libraries \n",
    "import pandas as pd\n",
    "import numpy as np\n",
    "#import seaborn as sns\n",
    "#import matplotlib as plt\n",
    "#import plotly as ply\n",
    "import sklearn as skl\n",
    "import datetime as dt\n",
    "import statsmodels.api as sm\n",
    "import statsmodels.formula.api as smf\n",
    "import patsy\n",
    "import re \n",
    "from IPython.display import clear_output, display, HTML, Javascript"
   ]
  },
  {
   "cell_type": "code",
   "execution_count": 557,
   "id": "b0058b45",
   "metadata": {
    "slideshow": {
     "slide_type": "subslide"
    }
   },
   "outputs": [],
   "source": [
    "# load data \n",
    "df = pd.read_csv(\"books.csv\")"
   ]
  },
  {
   "cell_type": "markdown",
   "id": "af0df230",
   "metadata": {},
   "source": [
    "2 Data preprocessing "
   ]
  },
  {
   "cell_type": "markdown",
   "id": "03da0d13",
   "metadata": {},
   "source": [
    "2.1  inspect data "
   ]
  },
  {
   "cell_type": "code",
   "execution_count": 558,
   "id": "54080887",
   "metadata": {},
   "outputs": [
    {
     "data": {
      "text/html": [
       "<div>\n",
       "<style scoped>\n",
       "    .dataframe tbody tr th:only-of-type {\n",
       "        vertical-align: middle;\n",
       "    }\n",
       "\n",
       "    .dataframe tbody tr th {\n",
       "        vertical-align: top;\n",
       "    }\n",
       "\n",
       "    .dataframe thead th {\n",
       "        text-align: right;\n",
       "    }\n",
       "</style>\n",
       "<table border=\"1\" class=\"dataframe\">\n",
       "  <thead>\n",
       "    <tr style=\"text-align: right;\">\n",
       "      <th></th>\n",
       "      <th>bookID</th>\n",
       "      <th>title</th>\n",
       "      <th>authors</th>\n",
       "      <th>average_rating</th>\n",
       "      <th>isbn</th>\n",
       "      <th>isbn13</th>\n",
       "      <th>language_code</th>\n",
       "      <th>num_pages</th>\n",
       "      <th>ratings_count</th>\n",
       "      <th>text_reviews_count</th>\n",
       "      <th>publication_date</th>\n",
       "      <th>publisher</th>\n",
       "    </tr>\n",
       "  </thead>\n",
       "  <tbody>\n",
       "    <tr>\n",
       "      <th>0</th>\n",
       "      <td>1</td>\n",
       "      <td>Harry Potter and the Half-Blood Prince (Harry ...</td>\n",
       "      <td>J.K. Rowling/Mary GrandPré</td>\n",
       "      <td>4.57</td>\n",
       "      <td>0439785960</td>\n",
       "      <td>9780439785969</td>\n",
       "      <td>eng</td>\n",
       "      <td>652</td>\n",
       "      <td>2095690</td>\n",
       "      <td>27591</td>\n",
       "      <td>9/16/2006</td>\n",
       "      <td>Scholastic Inc.</td>\n",
       "    </tr>\n",
       "    <tr>\n",
       "      <th>1</th>\n",
       "      <td>2</td>\n",
       "      <td>Harry Potter and the Order of the Phoenix (Har...</td>\n",
       "      <td>J.K. Rowling/Mary GrandPré</td>\n",
       "      <td>4.49</td>\n",
       "      <td>0439358078</td>\n",
       "      <td>9780439358071</td>\n",
       "      <td>eng</td>\n",
       "      <td>870</td>\n",
       "      <td>2153167</td>\n",
       "      <td>29221</td>\n",
       "      <td>9/1/2004</td>\n",
       "      <td>Scholastic Inc.</td>\n",
       "    </tr>\n",
       "  </tbody>\n",
       "</table>\n",
       "</div>"
      ],
      "text/plain": [
       "   bookID                                              title  \\\n",
       "0       1  Harry Potter and the Half-Blood Prince (Harry ...   \n",
       "1       2  Harry Potter and the Order of the Phoenix (Har...   \n",
       "\n",
       "                      authors  average_rating        isbn         isbn13  \\\n",
       "0  J.K. Rowling/Mary GrandPré            4.57  0439785960  9780439785969   \n",
       "1  J.K. Rowling/Mary GrandPré            4.49  0439358078  9780439358071   \n",
       "\n",
       "  language_code    num_pages  ratings_count  text_reviews_count  \\\n",
       "0           eng          652        2095690               27591   \n",
       "1           eng          870        2153167               29221   \n",
       "\n",
       "  publication_date        publisher  \n",
       "0        9/16/2006  Scholastic Inc.  \n",
       "1         9/1/2004  Scholastic Inc.  "
      ]
     },
     "execution_count": 558,
     "metadata": {},
     "output_type": "execute_result"
    }
   ],
   "source": [
    "df.head(2)"
   ]
  },
  {
   "cell_type": "code",
   "execution_count": 559,
   "id": "79cd1ae4",
   "metadata": {},
   "outputs": [
    {
     "data": {
      "text/html": [
       "<div>\n",
       "<style scoped>\n",
       "    .dataframe tbody tr th:only-of-type {\n",
       "        vertical-align: middle;\n",
       "    }\n",
       "\n",
       "    .dataframe tbody tr th {\n",
       "        vertical-align: top;\n",
       "    }\n",
       "\n",
       "    .dataframe thead th {\n",
       "        text-align: right;\n",
       "    }\n",
       "</style>\n",
       "<table border=\"1\" class=\"dataframe\">\n",
       "  <thead>\n",
       "    <tr style=\"text-align: right;\">\n",
       "      <th></th>\n",
       "      <th>bookID</th>\n",
       "      <th>title</th>\n",
       "      <th>authors</th>\n",
       "      <th>average_rating</th>\n",
       "      <th>isbn</th>\n",
       "      <th>isbn13</th>\n",
       "      <th>language_code</th>\n",
       "      <th>num_pages</th>\n",
       "      <th>ratings_count</th>\n",
       "      <th>text_reviews_count</th>\n",
       "      <th>publication_date</th>\n",
       "      <th>publisher</th>\n",
       "    </tr>\n",
       "  </thead>\n",
       "  <tbody>\n",
       "    <tr>\n",
       "      <th>11125</th>\n",
       "      <td>45639</td>\n",
       "      <td>Poor People</td>\n",
       "      <td>William T. Vollmann</td>\n",
       "      <td>3.72</td>\n",
       "      <td>0060878827</td>\n",
       "      <td>9780060878825</td>\n",
       "      <td>eng</td>\n",
       "      <td>434</td>\n",
       "      <td>769</td>\n",
       "      <td>139</td>\n",
       "      <td>2/27/2007</td>\n",
       "      <td>Ecco</td>\n",
       "    </tr>\n",
       "    <tr>\n",
       "      <th>11126</th>\n",
       "      <td>45641</td>\n",
       "      <td>Las aventuras de Tom Sawyer</td>\n",
       "      <td>Mark Twain</td>\n",
       "      <td>3.91</td>\n",
       "      <td>8497646983</td>\n",
       "      <td>9788497646987</td>\n",
       "      <td>spa</td>\n",
       "      <td>272</td>\n",
       "      <td>113</td>\n",
       "      <td>12</td>\n",
       "      <td>5/28/2006</td>\n",
       "      <td>Edimat Libros</td>\n",
       "    </tr>\n",
       "  </tbody>\n",
       "</table>\n",
       "</div>"
      ],
      "text/plain": [
       "       bookID                        title              authors  \\\n",
       "11125   45639                  Poor People  William T. Vollmann   \n",
       "11126   45641  Las aventuras de Tom Sawyer           Mark Twain   \n",
       "\n",
       "       average_rating        isbn         isbn13 language_code    num_pages  \\\n",
       "11125            3.72  0060878827  9780060878825           eng          434   \n",
       "11126            3.91  8497646983  9788497646987           spa          272   \n",
       "\n",
       "       ratings_count  text_reviews_count publication_date      publisher  \n",
       "11125            769                 139        2/27/2007           Ecco  \n",
       "11126            113                  12        5/28/2006  Edimat Libros  "
      ]
     },
     "execution_count": 559,
     "metadata": {},
     "output_type": "execute_result"
    }
   ],
   "source": [
    "df.tail(2)"
   ]
  },
  {
   "cell_type": "code",
   "execution_count": 560,
   "id": "9f3eb044",
   "metadata": {},
   "outputs": [
    {
     "data": {
      "text/plain": [
       "(11127, 12)"
      ]
     },
     "execution_count": 560,
     "metadata": {},
     "output_type": "execute_result"
    }
   ],
   "source": [
    "# df shape \n",
    "df.shape"
   ]
  },
  {
   "cell_type": "code",
   "execution_count": 561,
   "id": "74f74529",
   "metadata": {},
   "outputs": [
    {
     "data": {
      "text/plain": [
       "Index(['bookID', 'title', 'authors', 'average_rating', 'isbn', 'isbn13',\n",
       "       'language_code', '  num_pages', 'ratings_count', 'text_reviews_count',\n",
       "       'publication_date', 'publisher'],\n",
       "      dtype='object')"
      ]
     },
     "execution_count": 561,
     "metadata": {},
     "output_type": "execute_result"
    }
   ],
   "source": [
    "# columns names\n",
    "df.columns"
   ]
  },
  {
   "cell_type": "code",
   "execution_count": 562,
   "id": "91609d11",
   "metadata": {},
   "outputs": [
    {
     "data": {
      "text/html": [
       "<div>\n",
       "<style scoped>\n",
       "    .dataframe tbody tr th:only-of-type {\n",
       "        vertical-align: middle;\n",
       "    }\n",
       "\n",
       "    .dataframe tbody tr th {\n",
       "        vertical-align: top;\n",
       "    }\n",
       "\n",
       "    .dataframe thead th {\n",
       "        text-align: right;\n",
       "    }\n",
       "</style>\n",
       "<table border=\"1\" class=\"dataframe\">\n",
       "  <thead>\n",
       "    <tr style=\"text-align: right;\">\n",
       "      <th></th>\n",
       "      <th>count</th>\n",
       "      <th>mean</th>\n",
       "      <th>std</th>\n",
       "      <th>min</th>\n",
       "      <th>25%</th>\n",
       "      <th>50%</th>\n",
       "      <th>75%</th>\n",
       "      <th>max</th>\n",
       "    </tr>\n",
       "  </thead>\n",
       "  <tbody>\n",
       "    <tr>\n",
       "      <th>bookID</th>\n",
       "      <td>11127.0</td>\n",
       "      <td>2.131094e+04</td>\n",
       "      <td>1.309336e+04</td>\n",
       "      <td>1.000000e+00</td>\n",
       "      <td>1.028700e+04</td>\n",
       "      <td>2.028700e+04</td>\n",
       "      <td>3.210450e+04</td>\n",
       "      <td>4.564100e+04</td>\n",
       "    </tr>\n",
       "    <tr>\n",
       "      <th>average_rating</th>\n",
       "      <td>11127.0</td>\n",
       "      <td>3.933631e+00</td>\n",
       "      <td>3.524450e-01</td>\n",
       "      <td>0.000000e+00</td>\n",
       "      <td>3.770000e+00</td>\n",
       "      <td>3.960000e+00</td>\n",
       "      <td>4.135000e+00</td>\n",
       "      <td>5.000000e+00</td>\n",
       "    </tr>\n",
       "    <tr>\n",
       "      <th>isbn13</th>\n",
       "      <td>11127.0</td>\n",
       "      <td>9.759888e+12</td>\n",
       "      <td>4.428964e+11</td>\n",
       "      <td>8.987060e+09</td>\n",
       "      <td>9.780345e+12</td>\n",
       "      <td>9.780586e+12</td>\n",
       "      <td>9.780873e+12</td>\n",
       "      <td>9.790008e+12</td>\n",
       "    </tr>\n",
       "    <tr>\n",
       "      <th>num_pages</th>\n",
       "      <td>11127.0</td>\n",
       "      <td>3.363769e+02</td>\n",
       "      <td>2.411273e+02</td>\n",
       "      <td>0.000000e+00</td>\n",
       "      <td>1.920000e+02</td>\n",
       "      <td>2.990000e+02</td>\n",
       "      <td>4.160000e+02</td>\n",
       "      <td>6.576000e+03</td>\n",
       "    </tr>\n",
       "    <tr>\n",
       "      <th>ratings_count</th>\n",
       "      <td>11127.0</td>\n",
       "      <td>1.793641e+04</td>\n",
       "      <td>1.124794e+05</td>\n",
       "      <td>0.000000e+00</td>\n",
       "      <td>1.040000e+02</td>\n",
       "      <td>7.450000e+02</td>\n",
       "      <td>4.993500e+03</td>\n",
       "      <td>4.597666e+06</td>\n",
       "    </tr>\n",
       "    <tr>\n",
       "      <th>text_reviews_count</th>\n",
       "      <td>11127.0</td>\n",
       "      <td>5.418545e+02</td>\n",
       "      <td>2.576177e+03</td>\n",
       "      <td>0.000000e+00</td>\n",
       "      <td>9.000000e+00</td>\n",
       "      <td>4.600000e+01</td>\n",
       "      <td>2.375000e+02</td>\n",
       "      <td>9.426500e+04</td>\n",
       "    </tr>\n",
       "  </tbody>\n",
       "</table>\n",
       "</div>"
      ],
      "text/plain": [
       "                      count          mean           std           min  \\\n",
       "bookID              11127.0  2.131094e+04  1.309336e+04  1.000000e+00   \n",
       "average_rating      11127.0  3.933631e+00  3.524450e-01  0.000000e+00   \n",
       "isbn13              11127.0  9.759888e+12  4.428964e+11  8.987060e+09   \n",
       "  num_pages         11127.0  3.363769e+02  2.411273e+02  0.000000e+00   \n",
       "ratings_count       11127.0  1.793641e+04  1.124794e+05  0.000000e+00   \n",
       "text_reviews_count  11127.0  5.418545e+02  2.576177e+03  0.000000e+00   \n",
       "\n",
       "                             25%           50%           75%           max  \n",
       "bookID              1.028700e+04  2.028700e+04  3.210450e+04  4.564100e+04  \n",
       "average_rating      3.770000e+00  3.960000e+00  4.135000e+00  5.000000e+00  \n",
       "isbn13              9.780345e+12  9.780586e+12  9.780873e+12  9.790008e+12  \n",
       "  num_pages         1.920000e+02  2.990000e+02  4.160000e+02  6.576000e+03  \n",
       "ratings_count       1.040000e+02  7.450000e+02  4.993500e+03  4.597666e+06  \n",
       "text_reviews_count  9.000000e+00  4.600000e+01  2.375000e+02  9.426500e+04  "
      ]
     },
     "execution_count": 562,
     "metadata": {},
     "output_type": "execute_result"
    }
   ],
   "source": [
    "# describe numeric variables\n",
    "df.describe(exclude=\"object\").T"
   ]
  },
  {
   "cell_type": "code",
   "execution_count": 563,
   "id": "e0043404",
   "metadata": {
    "scrolled": true
   },
   "outputs": [
    {
     "data": {
      "text/html": [
       "<div>\n",
       "<style scoped>\n",
       "    .dataframe tbody tr th:only-of-type {\n",
       "        vertical-align: middle;\n",
       "    }\n",
       "\n",
       "    .dataframe tbody tr th {\n",
       "        vertical-align: top;\n",
       "    }\n",
       "\n",
       "    .dataframe thead th {\n",
       "        text-align: right;\n",
       "    }\n",
       "</style>\n",
       "<table border=\"1\" class=\"dataframe\">\n",
       "  <thead>\n",
       "    <tr style=\"text-align: right;\">\n",
       "      <th></th>\n",
       "      <th>count</th>\n",
       "      <th>unique</th>\n",
       "      <th>top</th>\n",
       "      <th>freq</th>\n",
       "    </tr>\n",
       "  </thead>\n",
       "  <tbody>\n",
       "    <tr>\n",
       "      <th>title</th>\n",
       "      <td>11127</td>\n",
       "      <td>10352</td>\n",
       "      <td>The Brothers Karamazov</td>\n",
       "      <td>9</td>\n",
       "    </tr>\n",
       "    <tr>\n",
       "      <th>authors</th>\n",
       "      <td>11127</td>\n",
       "      <td>6643</td>\n",
       "      <td>Stephen King</td>\n",
       "      <td>40</td>\n",
       "    </tr>\n",
       "    <tr>\n",
       "      <th>isbn</th>\n",
       "      <td>11127</td>\n",
       "      <td>11127</td>\n",
       "      <td>0439785960</td>\n",
       "      <td>1</td>\n",
       "    </tr>\n",
       "    <tr>\n",
       "      <th>language_code</th>\n",
       "      <td>11127</td>\n",
       "      <td>27</td>\n",
       "      <td>eng</td>\n",
       "      <td>8911</td>\n",
       "    </tr>\n",
       "    <tr>\n",
       "      <th>publication_date</th>\n",
       "      <td>11127</td>\n",
       "      <td>3679</td>\n",
       "      <td>10/1/2005</td>\n",
       "      <td>56</td>\n",
       "    </tr>\n",
       "    <tr>\n",
       "      <th>publisher</th>\n",
       "      <td>11127</td>\n",
       "      <td>2292</td>\n",
       "      <td>Vintage</td>\n",
       "      <td>318</td>\n",
       "    </tr>\n",
       "  </tbody>\n",
       "</table>\n",
       "</div>"
      ],
      "text/plain": [
       "                  count unique                     top  freq\n",
       "title             11127  10352  The Brothers Karamazov     9\n",
       "authors           11127   6643            Stephen King    40\n",
       "isbn              11127  11127              0439785960     1\n",
       "language_code     11127     27                     eng  8911\n",
       "publication_date  11127   3679               10/1/2005    56\n",
       "publisher         11127   2292                 Vintage   318"
      ]
     },
     "execution_count": 563,
     "metadata": {},
     "output_type": "execute_result"
    }
   ],
   "source": [
    "# describe non-numeric  variables\n",
    "df.describe(include=\"object\").T"
   ]
  },
  {
   "cell_type": "markdown",
   "id": "f38cba68",
   "metadata": {},
   "source": [
    "There is no duplicate ID in data as isbn is 11127 the datat set number of cases. "
   ]
  },
  {
   "cell_type": "markdown",
   "id": "5128da2a",
   "metadata": {},
   "source": [
    "2.2  clean data "
   ]
  },
  {
   "cell_type": "markdown",
   "id": "c261187e",
   "metadata": {},
   "source": [
    "2.2.1 Clean publication date "
   ]
  },
  {
   "cell_type": "code",
   "execution_count": 564,
   "id": "5a58c05c",
   "metadata": {},
   "outputs": [
    {
     "name": "stderr",
     "output_type": "stream",
     "text": [
      "/var/folders/dr/qtbb25gd2pl7ssnx51bqxv6r0000gp/T/ipykernel_1136/1680810485.py:13: SettingWithCopyWarning: \n",
      "A value is trying to be set on a copy of a slice from a DataFrame\n",
      "\n",
      "See the caveats in the documentation: https://pandas.pydata.org/pandas-docs/stable/user_guide/indexing.html#returning-a-view-versus-a-copy\n",
      "  df[\"publication_Date\"][i] = dt.date(year,month,day)\n"
     ]
    },
    {
     "name": "stdout",
     "output_type": "stream",
     "text": [
      "no date issue\n"
     ]
    }
   ],
   "source": [
    "# change from string to datetime object \n",
    "# for loop to parse date \n",
    "df[\"publication_Date\"]= pd.Series(dtype=\"int\")\n",
    "cnt = 0\n",
    "for i in range(len(df.publication_date)) :\n",
    "    month,day,year = map(int,df.publication_date[i].split('/'))\n",
    "\n",
    "    if month in [4,6,9,11] and day > 30:\n",
    "        day = 30\n",
    "        df[\"publication_Date\"][i] = dt.date(year,month,day)\n",
    "    elif(month==2 and day > 28 and year % 4 != 0):\n",
    "        day = 28\n",
    "    df[\"publication_Date\"][i] = dt.date(year,month,day)\n",
    "    cnt +=1\n",
    "if (cnt == len(df.publication_date)) :\n",
    "    print(\"no date issue\" )\n",
    " "
   ]
  },
  {
   "cell_type": "code",
   "execution_count": 565,
   "id": "2c763a30",
   "metadata": {},
   "outputs": [
    {
     "data": {
      "text/plain": [
       "Index(['bookID', 'title', 'authors', 'average_rating', 'isbn', 'isbn13',\n",
       "       'language_code', 'num_pages', 'ratings_count', 'text_reviews_count',\n",
       "       'publication_date', 'publisher', 'publication_Date'],\n",
       "      dtype='object')"
      ]
     },
     "execution_count": 565,
     "metadata": {},
     "output_type": "execute_result"
    }
   ],
   "source": [
    "# remove heading whitespace from num_pages feature \n",
    "df = df.rename(columns = {\"  num_pages\" : \"num_pages\"})\n",
    "df.columns"
   ]
  },
  {
   "cell_type": "code",
   "execution_count": 566,
   "id": "cb646068",
   "metadata": {
    "slideshow": {
     "slide_type": "fragment"
    }
   },
   "outputs": [
    {
     "data": {
      "text/plain": [
       "0"
      ]
     },
     "execution_count": 566,
     "metadata": {},
     "output_type": "execute_result"
    }
   ],
   "source": [
    "#na check in the entire dataset \n",
    "df.isna().sum().sum()"
   ]
  },
  {
   "cell_type": "markdown",
   "id": "4d17ae46",
   "metadata": {},
   "source": [
    "There is no NA in df"
   ]
  },
  {
   "cell_type": "code",
   "execution_count": 567,
   "id": "32bd8019",
   "metadata": {},
   "outputs": [
    {
     "name": "stdout",
     "output_type": "stream",
     "text": [
      "There is no NA in average_rating\n"
     ]
    }
   ],
   "source": [
    "# na check in average_rating\n",
    "if (df.average_rating.isna().mean() == 0 ) :\n",
    "    print(\"There is no NA in average_rating\")\n",
    "else:\n",
    "    print(\"There are NA in average_rating\")"
   ]
  },
  {
   "cell_type": "markdown",
   "id": "f808cc77",
   "metadata": {},
   "source": [
    "3 EDA "
   ]
  },
  {
   "cell_type": "markdown",
   "id": "9bbf210f",
   "metadata": {},
   "source": [
    "1D EDA "
   ]
  },
  {
   "cell_type": "markdown",
   "id": "ed1b0bcb",
   "metadata": {},
   "source": [
    "3.1 Numerical summary and 1D plot"
   ]
  },
  {
   "cell_type": "code",
   "execution_count": 568,
   "id": "d0c9e4db",
   "metadata": {},
   "outputs": [
    {
     "data": {
      "text/plain": [
       "count    11127.000000\n",
       "mean         3.933631\n",
       "std          0.352445\n",
       "min          0.000000\n",
       "25%          3.770000\n",
       "50%          3.960000\n",
       "75%          4.135000\n",
       "max          5.000000\n",
       "Name: average_rating, dtype: float64"
      ]
     },
     "execution_count": 568,
     "metadata": {},
     "output_type": "execute_result"
    }
   ],
   "source": [
    "# numerical summary : average_rating \n",
    "df.average_rating.describe()"
   ]
  },
  {
   "cell_type": "code",
   "execution_count": 569,
   "id": "5a1b9a43",
   "metadata": {},
   "outputs": [
    {
     "data": {
      "text/plain": [
       "<AxesSubplot: >"
      ]
     },
     "execution_count": 569,
     "metadata": {},
     "output_type": "execute_result"
    },
    {
     "data": {
      "image/png": "[encoded data removed]",
      "text/plain": [
       "<Figure size 640x480 with 1 Axes>"
      ]
     },
     "metadata": {},
     "output_type": "display_data"
    }
   ],
   "source": [
    "# histogram of average ratings \n",
    "df.average_rating.hist(bins=60,legend={\"\"})"
   ]
  },
  {
   "cell_type": "code",
   "execution_count": 570,
   "id": "662fe9af",
   "metadata": {},
   "outputs": [
    {
     "data": {
      "text/plain": [
       "<AxesSubplot: >"
      ]
     },
     "execution_count": 570,
     "metadata": {},
     "output_type": "execute_result"
    },
    {
     "data": {
      "image/png": "[encoded data removed]",
      "text/plain": [
       "<Figure size 640x480 with 1 Axes>"
      ]
     },
     "metadata": {},
     "output_type": "display_data"
    }
   ],
   "source": [
    "# histogram of average ratings :range [0,3.9]\n",
    "df.average_rating.hist(bins=60,range = [0,3],legend={\"\"})"
   ]
  },
  {
   "cell_type": "code",
   "execution_count": 571,
   "id": "2a247bb6",
   "metadata": {},
   "outputs": [
    {
     "data": {
      "text/plain": [
       "<AxesSubplot: >"
      ]
     },
     "execution_count": 571,
     "metadata": {},
     "output_type": "execute_result"
    },
    {
     "data": {
      "image/png": "[encoded data removed]",
      "text/plain": [
       "<Figure size 640x480 with 1 Axes>"
      ]
     },
     "metadata": {},
     "output_type": "display_data"
    }
   ],
   "source": [
    "# histogram of average ratings :range [0,4.75]\n",
    "df.average_rating.hist(bins=30,range = [3,4.75],legend={\"\"})"
   ]
  },
  {
   "cell_type": "code",
   "execution_count": 572,
   "id": "5a8159b0",
   "metadata": {},
   "outputs": [
    {
     "data": {
      "text/plain": [
       "<AxesSubplot: >"
      ]
     },
     "execution_count": 572,
     "metadata": {},
     "output_type": "execute_result"
    },
    {
     "data": {
      "image/png": "[encoded data removed]",
      "text/plain": [
       "<Figure size 640x480 with 1 Axes>"
      ]
     },
     "metadata": {},
     "output_type": "display_data"
    }
   ],
   "source": [
    "# histogram of average ratings :range [0,3.9]\n",
    "df.average_rating.hist(bins=30,range = [4.75,5],legend={\"\"})"
   ]
  },
  {
   "cell_type": "code",
   "execution_count": 573,
   "id": "4e73733d",
   "metadata": {},
   "outputs": [
    {
     "data": {
      "text/plain": [
       "(104, 13)"
      ]
     },
     "execution_count": 573,
     "metadata": {},
     "output_type": "execute_result"
    }
   ],
   "source": [
    "# number of cases where averating are <= 3\n",
    "df.loc[df.average_rating <= 3].shape"
   ]
  },
  {
   "cell_type": "code",
   "execution_count": 574,
   "id": "f8da9b2b",
   "metadata": {},
   "outputs": [
    {
     "data": {
      "text/plain": [
       "(31, 13)"
      ]
     },
     "execution_count": 574,
     "metadata": {},
     "output_type": "execute_result"
    }
   ],
   "source": [
    "# number of cases where average rating >= 4.75 \n",
    "df.loc[df.average_rating > 4.75].shape"
   ]
  },
  {
   "cell_type": "code",
   "execution_count": 575,
   "id": "a453e8d7",
   "metadata": {},
   "outputs": [
    {
     "data": {
      "text/plain": [
       "count    11127.000000\n",
       "mean         3.933631\n",
       "std          0.352445\n",
       "min          0.000000\n",
       "25%          3.770000\n",
       "50%          3.960000\n",
       "75%          4.135000\n",
       "max          5.000000\n",
       "Name: average_rating, dtype: float64"
      ]
     },
     "execution_count": 575,
     "metadata": {},
     "output_type": "execute_result"
    }
   ],
   "source": [
    "# average ratings sumary statistics \n",
    "df.average_rating.describe()"
   ]
  },
  {
   "cell_type": "code",
   "execution_count": 576,
   "id": "dc497d64",
   "metadata": {},
   "outputs": [
    {
     "data": {
      "text/html": [
       "<div>\n",
       "<style scoped>\n",
       "    .dataframe tbody tr th:only-of-type {\n",
       "        vertical-align: middle;\n",
       "    }\n",
       "\n",
       "    .dataframe tbody tr th {\n",
       "        vertical-align: top;\n",
       "    }\n",
       "\n",
       "    .dataframe thead th {\n",
       "        text-align: right;\n",
       "    }\n",
       "</style>\n",
       "<table border=\"1\" class=\"dataframe\">\n",
       "  <thead>\n",
       "    <tr style=\"text-align: right;\">\n",
       "      <th></th>\n",
       "      <th>average_rating</th>\n",
       "    </tr>\n",
       "  </thead>\n",
       "  <tbody>\n",
       "    <tr>\n",
       "      <th>0.25</th>\n",
       "      <td>3.770</td>\n",
       "    </tr>\n",
       "    <tr>\n",
       "      <th>0.75</th>\n",
       "      <td>4.135</td>\n",
       "    </tr>\n",
       "  </tbody>\n",
       "</table>\n",
       "</div>"
      ],
      "text/plain": [
       "      average_rating\n",
       "0.25           3.770\n",
       "0.75           4.135"
      ]
     },
     "execution_count": 576,
     "metadata": {},
     "output_type": "execute_result"
    }
   ],
   "source": [
    "#average_rating 1st and 3rd quantile \n",
    "IQR_average_rating = df.quantile([0.25,0.75])[[\"average_rating\"]]\n",
    "IQR_average_rating"
   ]
  },
  {
   "cell_type": "markdown",
   "id": "76473b7b",
   "metadata": {},
   "source": [
    "average_ratings is almost an unimodal distribution with some outliers.\n",
    "it has median 3.96 and IQR : 0.3 "
   ]
  },
  {
   "cell_type": "code",
   "execution_count": 577,
   "id": "5d1e55fa",
   "metadata": {},
   "outputs": [
    {
     "data": {
      "text/plain": [
       "count    11127.000000\n",
       "mean       336.376921\n",
       "std        241.127305\n",
       "min          0.000000\n",
       "25%        192.000000\n",
       "50%        299.000000\n",
       "75%        416.000000\n",
       "max       6576.000000\n",
       "Name: num_pages, dtype: float64"
      ]
     },
     "execution_count": 577,
     "metadata": {},
     "output_type": "execute_result"
    }
   ],
   "source": [
    "#numerical summary num_pages\n",
    "df.num_pages.describe()"
   ]
  },
  {
   "cell_type": "code",
   "execution_count": 578,
   "id": "b27c9e61",
   "metadata": {},
   "outputs": [
    {
     "data": {
      "text/plain": [
       "<AxesSubplot: >"
      ]
     },
     "execution_count": 578,
     "metadata": {},
     "output_type": "execute_result"
    },
    {
     "data": {
      "image/png": "[encoded data removed]",
      "text/plain": [
       "<Figure size 640x480 with 1 Axes>"
      ]
     },
     "metadata": {},
     "output_type": "display_data"
    }
   ],
   "source": [
    "# histogram of num_pages \n",
    "df.num_pages.hist(bins = 60,legend={\"\"})"
   ]
  },
  {
   "cell_type": "markdown",
   "id": "b2aef50c",
   "metadata": {},
   "source": [
    "Num_pages is almost an unimodal distribution, right skewed showing that  at least 50% of books presents 299 pages."
   ]
  },
  {
   "cell_type": "code",
   "execution_count": 579,
   "id": "c1d1e8e0",
   "metadata": {},
   "outputs": [
    {
     "data": {
      "text/plain": [
       "0.25        104.0\n",
       "0.50        745.0\n",
       "0.75       4993.5\n",
       "1.00    4597666.0\n",
       "Name: ratings_count, dtype: float64"
      ]
     },
     "execution_count": 579,
     "metadata": {},
     "output_type": "execute_result"
    }
   ],
   "source": [
    "# numerical summary ratings_count \n",
    "(df.ratings_count\n",
    ".quantile([0.25,0.5,0.75, 1])\n",
    ")"
   ]
  },
  {
   "cell_type": "markdown",
   "id": "dc77d5b2",
   "metadata": {},
   "source": [
    "Maximum rating count is so high that it seems suspect !"
   ]
  },
  {
   "cell_type": "code",
   "execution_count": 580,
   "id": "b49a1477",
   "metadata": {},
   "outputs": [
    {
     "data": {
      "text/plain": [
       "10340    Twilight (Twilight  #1)\n",
       "Name: title, dtype: object"
      ]
     },
     "execution_count": 580,
     "metadata": {},
     "output_type": "execute_result"
    }
   ],
   "source": [
    "# which book has this ratings count ?\n",
    "df.title[df.ratings_count == max(df.ratings_count) ]"
   ]
  },
  {
   "cell_type": "markdown",
   "id": "25a677b8",
   "metadata": {},
   "source": [
    "Twilight is the book with the highest ratings_count.  "
   ]
  },
  {
   "cell_type": "code",
   "execution_count": 581,
   "id": "d9129cfe",
   "metadata": {},
   "outputs": [
    {
     "data": {
      "text/plain": [
       "<AxesSubplot: >"
      ]
     },
     "execution_count": 581,
     "metadata": {},
     "output_type": "execute_result"
    },
    {
     "data": {
      "image/png": "[encoded data removed]",
      "text/plain": [
       "<Figure size 640x480 with 1 Axes>"
      ]
     },
     "metadata": {},
     "output_type": "display_data"
    }
   ],
   "source": [
    "\n",
    "\n",
    "# histogram of ratings_count \n",
    "df.ratings_count.hist(bins = 50,range = [0,2000],legend ={\"\"})"
   ]
  },
  {
   "cell_type": "markdown",
   "id": "fad8750e",
   "metadata": {},
   "source": [
    "Ratings count distribution is unimodal, right skewed. At least 50% of books ratings count is greater or equal to 745."
   ]
  },
  {
   "cell_type": "code",
   "execution_count": 582,
   "id": "b1084fde",
   "metadata": {},
   "outputs": [
    {
     "data": {
      "text/plain": [
       "count          11127\n",
       "unique          3678\n",
       "top       2005-10-01\n",
       "freq              56\n",
       "Name: publication_Date, dtype: object"
      ]
     },
     "execution_count": 582,
     "metadata": {},
     "output_type": "execute_result"
    }
   ],
   "source": [
    "# numerical summary publication Date\n",
    "df.publication_Date.describe()"
   ]
  },
  {
   "cell_type": "code",
   "execution_count": 583,
   "id": "d1105419",
   "metadata": {},
   "outputs": [
    {
     "data": {
      "text/plain": [
       "0.00    1900-01-01\n",
       "0.25    1998-07-17\n",
       "0.50    2003-03-01\n",
       "0.75    2005-09-30\n",
       "1.00    2020-03-31\n",
       "Name: publication_Date, dtype: object"
      ]
     },
     "execution_count": 583,
     "metadata": {},
     "output_type": "execute_result"
    }
   ],
   "source": [
    "(df\n",
    "[\"publication_Date\"]\n",
    ".quantile([0.0,0.25,0.5,0.75,1])\n",
    ")"
   ]
  },
  {
   "cell_type": "code",
   "execution_count": 584,
   "id": "e2c09838",
   "metadata": {},
   "outputs": [
    {
     "data": {
      "text/plain": [
       "<AxesSubplot: >"
      ]
     },
     "execution_count": 584,
     "metadata": {},
     "output_type": "execute_result"
    },
    {
     "data": {
      "image/png": "[encoded data removed]",
      "text/plain": [
       "<Figure size 640x480 with 1 Axes>"
      ]
     },
     "metadata": {},
     "output_type": "display_data"
    }
   ],
   "source": [
    "# histogram of publication date \n",
    "df.publication_Date.hist(bins = 70)"
   ]
  },
  {
   "cell_type": "markdown",
   "id": "5d49a73e",
   "metadata": {},
   "source": [
    "publication date distribution is unimodal and left skewed. At least 50% of books has been published before between 1998 and 2005."
   ]
  },
  {
   "cell_type": "markdown",
   "id": "f76fb1ad",
   "metadata": {},
   "source": [
    "How many books are written in english ?"
   ]
  },
  {
   "cell_type": "code",
   "execution_count": 585,
   "id": "914a096c",
   "metadata": {},
   "outputs": [
    {
     "data": {
      "text/plain": [
       "language_code\n",
       "en-CA    0.00\n",
       "en-GB    0.02\n",
       "en-US    0.13\n",
       "eng      0.80\n",
       "Name: bookID, dtype: float64"
      ]
     },
     "execution_count": 585,
     "metadata": {},
     "output_type": "execute_result"
    }
   ],
   "source": [
    "# language code \n",
    "df3 = df.groupby(\"language_code\").count()\n",
    "# round \n",
    "round(df3.bookID.filter(regex =\"^[Ee][Nn][g\\\\-]\")/df.shape[0],2)"
   ]
  },
  {
   "cell_type": "markdown",
   "id": "df3b5734",
   "metadata": {},
   "source": [
    "95% of book are written in English. The english type being diffrent.  \n",
    "It may be reasonble to turn language code into a binary variable.  "
   ]
  },
  {
   "cell_type": "markdown",
   "id": "39a9b1b5",
   "metadata": {},
   "source": [
    "Who are the five most prolific authors ?"
   ]
  },
  {
   "cell_type": "code",
   "execution_count": 586,
   "id": "7f80fb80",
   "metadata": {},
   "outputs": [
    {
     "data": {
      "text/html": [
       "<div>\n",
       "<style scoped>\n",
       "    .dataframe tbody tr th:only-of-type {\n",
       "        vertical-align: middle;\n",
       "    }\n",
       "\n",
       "    .dataframe tbody tr th {\n",
       "        vertical-align: top;\n",
       "    }\n",
       "\n",
       "    .dataframe thead th {\n",
       "        text-align: right;\n",
       "    }\n",
       "</style>\n",
       "<table border=\"1\" class=\"dataframe\">\n",
       "  <thead>\n",
       "    <tr style=\"text-align: right;\">\n",
       "      <th></th>\n",
       "      <th>title</th>\n",
       "    </tr>\n",
       "    <tr>\n",
       "      <th>authors</th>\n",
       "      <th></th>\n",
       "    </tr>\n",
       "  </thead>\n",
       "  <tbody>\n",
       "    <tr>\n",
       "      <th>Stephen King</th>\n",
       "      <td>40</td>\n",
       "    </tr>\n",
       "    <tr>\n",
       "      <th>P.G. Wodehouse</th>\n",
       "      <td>40</td>\n",
       "    </tr>\n",
       "    <tr>\n",
       "      <th>Rumiko Takahashi</th>\n",
       "      <td>39</td>\n",
       "    </tr>\n",
       "    <tr>\n",
       "      <th>Orson Scott Card</th>\n",
       "      <td>35</td>\n",
       "    </tr>\n",
       "    <tr>\n",
       "      <th>Agatha Christie</th>\n",
       "      <td>33</td>\n",
       "    </tr>\n",
       "  </tbody>\n",
       "</table>\n",
       "</div>"
      ],
      "text/plain": [
       "                  title\n",
       "authors                \n",
       "Stephen King         40\n",
       "P.G. Wodehouse       40\n",
       "Rumiko Takahashi     39\n",
       "Orson Scott Card     35\n",
       "Agatha Christie      33"
      ]
     },
     "execution_count": 586,
     "metadata": {},
     "output_type": "execute_result"
    }
   ],
   "source": [
    "# authors\n",
    "(df.groupby(\"authors\")\n",
    " .count()\n",
    " .sort_values(\"title\",ascending=False)\n",
    " [[\"title\"]]\n",
    " .head(5)\n",
    ")"
   ]
  },
  {
   "cell_type": "markdown",
   "id": "c79ce2b7",
   "metadata": {},
   "source": [
    "5 most prolific authors are :  \n",
    "1. S. king\n",
    "2. P.G. Wodehouse\n",
    "3. Rumiko Takahashi\n",
    "4. Orson Scott Card\n",
    "5. Agatha Christie"
   ]
  },
  {
   "cell_type": "markdown",
   "id": "104cb125",
   "metadata": {},
   "source": [
    "Who are the 5 more prolific publisher ?"
   ]
  },
  {
   "cell_type": "code",
   "execution_count": 587,
   "id": "8eda2031",
   "metadata": {},
   "outputs": [
    {
     "data": {
      "text/html": [
       "<div>\n",
       "<style scoped>\n",
       "    .dataframe tbody tr th:only-of-type {\n",
       "        vertical-align: middle;\n",
       "    }\n",
       "\n",
       "    .dataframe tbody tr th {\n",
       "        vertical-align: top;\n",
       "    }\n",
       "\n",
       "    .dataframe thead th {\n",
       "        text-align: right;\n",
       "    }\n",
       "</style>\n",
       "<table border=\"1\" class=\"dataframe\">\n",
       "  <thead>\n",
       "    <tr style=\"text-align: right;\">\n",
       "      <th></th>\n",
       "      <th>title</th>\n",
       "    </tr>\n",
       "    <tr>\n",
       "      <th>publisher</th>\n",
       "      <th></th>\n",
       "    </tr>\n",
       "  </thead>\n",
       "  <tbody>\n",
       "    <tr>\n",
       "      <th>Vintage</th>\n",
       "      <td>318</td>\n",
       "    </tr>\n",
       "    <tr>\n",
       "      <th>Penguin Books</th>\n",
       "      <td>261</td>\n",
       "    </tr>\n",
       "    <tr>\n",
       "      <th>Penguin Classics</th>\n",
       "      <td>184</td>\n",
       "    </tr>\n",
       "    <tr>\n",
       "      <th>Mariner Books</th>\n",
       "      <td>150</td>\n",
       "    </tr>\n",
       "    <tr>\n",
       "      <th>Ballantine Books</th>\n",
       "      <td>144</td>\n",
       "    </tr>\n",
       "  </tbody>\n",
       "</table>\n",
       "</div>"
      ],
      "text/plain": [
       "                  title\n",
       "publisher              \n",
       "Vintage             318\n",
       "Penguin Books       261\n",
       "Penguin Classics    184\n",
       "Mariner Books       150\n",
       "Ballantine Books    144"
      ]
     },
     "execution_count": 587,
     "metadata": {},
     "output_type": "execute_result"
    }
   ],
   "source": [
    "(df.groupby(\"publisher\")\n",
    " .count()\n",
    " .sort_values(\"title\",ascending=False)\n",
    " [[\"title\"]]\n",
    " .head(5)\n",
    ")"
   ]
  },
  {
   "cell_type": "markdown",
   "id": "37612350",
   "metadata": {},
   "source": [
    "The 5 most productive publisher are :   \n",
    "1. Vintage\n",
    "2. Penguin Books \n",
    "3. Penguin Classics\n",
    "4. Mariner Books\n",
    "5. Ballantine Books"
   ]
  },
  {
   "cell_type": "markdown",
   "id": "38750251",
   "metadata": {},
   "source": [
    "What are the first 5 well rated titles ?"
   ]
  },
  {
   "cell_type": "code",
   "execution_count": 588,
   "id": "2b2ec4c3",
   "metadata": {},
   "outputs": [
    {
     "data": {
      "text/html": [
       "<div>\n",
       "<style scoped>\n",
       "    .dataframe tbody tr th:only-of-type {\n",
       "        vertical-align: middle;\n",
       "    }\n",
       "\n",
       "    .dataframe tbody tr th {\n",
       "        vertical-align: top;\n",
       "    }\n",
       "\n",
       "    .dataframe thead th {\n",
       "        text-align: right;\n",
       "    }\n",
       "</style>\n",
       "<table border=\"1\" class=\"dataframe\">\n",
       "  <thead>\n",
       "    <tr style=\"text-align: right;\">\n",
       "      <th></th>\n",
       "      <th>average_rating</th>\n",
       "    </tr>\n",
       "    <tr>\n",
       "      <th>title</th>\n",
       "      <th></th>\n",
       "    </tr>\n",
       "  </thead>\n",
       "  <tbody>\n",
       "    <tr>\n",
       "      <th>The Complete Theory Fun Factory: Music Theory Puzzles and Games for the Early Grades</th>\n",
       "      <td>5.0</td>\n",
       "    </tr>\n",
       "    <tr>\n",
       "      <th>The Irish Anatomist: A Study of Flann O'Brien</th>\n",
       "      <td>5.0</td>\n",
       "    </tr>\n",
       "    <tr>\n",
       "      <th>Colossians and Philemon: A Critical and Exegetical Commentary (International Critical Commentary)</th>\n",
       "      <td>5.0</td>\n",
       "    </tr>\n",
       "    <tr>\n",
       "      <th>The American Campaign: U.S. Presidential Campaigns and the National Vote</th>\n",
       "      <td>5.0</td>\n",
       "    </tr>\n",
       "    <tr>\n",
       "      <th>Bill Gates: Computer Legend (Famous Lives)</th>\n",
       "      <td>5.0</td>\n",
       "    </tr>\n",
       "  </tbody>\n",
       "</table>\n",
       "</div>"
      ],
      "text/plain": [
       "                                                    average_rating\n",
       "title                                                             \n",
       "The Complete Theory Fun Factory: Music Theory P...             5.0\n",
       "The Irish Anatomist: A Study of Flann O'Brien                  5.0\n",
       "Colossians and Philemon: A Critical and Exegeti...             5.0\n",
       "The American Campaign: U.S. Presidential Campai...             5.0\n",
       "Bill Gates: Computer Legend (Famous Lives)                     5.0"
      ]
     },
     "execution_count": 588,
     "metadata": {},
     "output_type": "execute_result"
    }
   ],
   "source": [
    "(df.groupby(\"title\")\n",
    " .agg(\"mean\")\n",
    " .sort_values(by =\"average_rating\",ascending=False)\n",
    " [[\"average_rating\"]]\n",
    " .head(5)\n",
    ")"
   ]
  },
  {
   "cell_type": "markdown",
   "id": "1fab72b9",
   "metadata": {},
   "source": [
    "Above are the 5 well rated books title in this dataset. "
   ]
  },
  {
   "cell_type": "markdown",
   "id": "ac548d06",
   "metadata": {},
   "source": [
    "We are not going to do EDA on bookID, isbn , isbn13. \n",
    "The first 3 are identifier and have no variation, though it won't bring enough information to the model. "
   ]
  },
  {
   "cell_type": "markdown",
   "id": "16c84ae8",
   "metadata": {},
   "source": [
    "Turn language code into a binary variable and perform EDA. "
   ]
  },
  {
   "cell_type": "code",
   "execution_count": 589,
   "id": "144fa32e",
   "metadata": {},
   "outputs": [],
   "source": [
    "# bin language code  eng : 1 , other : 0\n",
    "language_code_bin = []\n",
    "for i in range(len(df.language_code)) :\n",
    "    if re.match(\"^([Ee][Nn].+)\",df.language_code[i]):\n",
    "        language_code_bin.append(1)\n",
    "    else:\n",
    "        language_code_bin.append(0) \n",
    "df[\"language_code_bin\"]  = language_code_bin"
   ]
  },
  {
   "cell_type": "markdown",
   "id": "995db1ae",
   "metadata": {},
   "source": [
    "What is the proportion of books written in English language?"
   ]
  },
  {
   "cell_type": "code",
   "execution_count": 590,
   "id": "220f9b3a",
   "metadata": {},
   "outputs": [
    {
     "data": {
      "text/html": [
       "<div>\n",
       "<style scoped>\n",
       "    .dataframe tbody tr th:only-of-type {\n",
       "        vertical-align: middle;\n",
       "    }\n",
       "\n",
       "    .dataframe tbody tr th {\n",
       "        vertical-align: top;\n",
       "    }\n",
       "\n",
       "    .dataframe thead th {\n",
       "        text-align: right;\n",
       "    }\n",
       "</style>\n",
       "<table border=\"1\" class=\"dataframe\">\n",
       "  <thead>\n",
       "    <tr style=\"text-align: right;\">\n",
       "      <th></th>\n",
       "      <th>title</th>\n",
       "    </tr>\n",
       "    <tr>\n",
       "      <th>language_code_bin</th>\n",
       "      <th></th>\n",
       "    </tr>\n",
       "  </thead>\n",
       "  <tbody>\n",
       "    <tr>\n",
       "      <th>0</th>\n",
       "      <td>0.052</td>\n",
       "    </tr>\n",
       "    <tr>\n",
       "      <th>1</th>\n",
       "      <td>0.948</td>\n",
       "    </tr>\n",
       "  </tbody>\n",
       "</table>\n",
       "</div>"
      ],
      "text/plain": [
       "                   title\n",
       "language_code_bin       \n",
       "0                  0.052\n",
       "1                  0.948"
      ]
     },
     "execution_count": 590,
     "metadata": {},
     "output_type": "execute_result"
    }
   ],
   "source": [
    "# proportion of english in language code. \n",
    "(df.groupby(\"language_code_bin\")\n",
    " .count()/len(df.language_code_bin)\n",
    " ).round(3)[[\"title\"]]"
   ]
  },
  {
   "cell_type": "markdown",
   "id": "c9365265",
   "metadata": {},
   "source": [
    "English language has a proportion of 0.95 in language code. 95% of our books are written in English. "
   ]
  },
  {
   "cell_type": "markdown",
   "id": "eacb7ed4",
   "metadata": {},
   "source": [
    "== Finding association between variables ==  \n",
    " 3.2 Numerical summary and  2D plot \n"
   ]
  },
  {
   "cell_type": "markdown",
   "id": "5b37b0b1",
   "metadata": {},
   "source": [
    "Is there any association between number of pages and average rating ?"
   ]
  },
  {
   "cell_type": "code",
   "execution_count": 591,
   "id": "73705dac",
   "metadata": {},
   "outputs": [
    {
     "name": "stderr",
     "output_type": "stream",
     "text": [
      "/Users/mpaga/opt/anaconda3/lib/python3.9/site-packages/pandas/plotting/_matplotlib/core.py:1114: UserWarning: No data for colormapping provided via 'c'. Parameters 'cmap' will be ignored\n",
      "  scatter = ax.scatter(\n"
     ]
    },
    {
     "data": {
      "text/plain": [
       "<AxesSubplot: xlabel='num_pages', ylabel='average_rating'>"
      ]
     },
     "execution_count": 591,
     "metadata": {},
     "output_type": "execute_result"
    },
    {
     "data": {
      "image/png": "[encoded data removed]",
      "text/plain": [
       "<Figure size 640x480 with 1 Axes>"
      ]
     },
     "metadata": {},
     "output_type": "display_data"
    }
   ],
   "source": [
    "# scatter plot average rating vs num_pages\n",
    "df.plot.scatter(x=\"num_pages\",y = \"average_rating\")"
   ]
  },
  {
   "cell_type": "code",
   "execution_count": 592,
   "id": "814c2a4b",
   "metadata": {
    "tags": [
     "correlation_coef"
    ]
   },
   "outputs": [
    {
     "data": {
      "text/plain": [
       "0.15"
      ]
     },
     "execution_count": 592,
     "metadata": {},
     "output_type": "execute_result"
    }
   ],
   "source": [
    "# correlation cofficient between average rating and num_pages\n",
    "round(df.average_rating.corr(df.num_pages),2)"
   ]
  },
  {
   "cell_type": "markdown",
   "id": "4fb555e6",
   "metadata": {
    "tags": [
     "summary"
    ]
   },
   "source": [
    "The correlation coeffication is 0.15. This suggest a weak association between \n",
    "average rating and number of pages. "
   ]
  },
  {
   "cell_type": "code",
   "execution_count": 593,
   "id": "0324b724",
   "metadata": {
    "tags": [
     "2D_plot"
    ]
   },
   "outputs": [
    {
     "data": {
      "text/plain": [
       "<AxesSubplot: xlabel='text_reviews_count', ylabel='average_rating'>"
      ]
     },
     "execution_count": 593,
     "metadata": {},
     "output_type": "execute_result"
    },
    {
     "data": {
      "image/png": "[encoded data removed]",
      "text/plain": [
       "<Figure size 640x480 with 1 Axes>"
      ]
     },
     "metadata": {},
     "output_type": "display_data"
    }
   ],
   "source": [
    "# scatter plot average_rating vs text_reviews_count \n",
    "df.plot.scatter(x=\"text_reviews_count\",y = \"average_rating\")"
   ]
  },
  {
   "cell_type": "markdown",
   "id": "7c4e9669",
   "metadata": {},
   "source": [
    "There is not a clear pattern between these 2 variables.  "
   ]
  },
  {
   "cell_type": "code",
   "execution_count": 594,
   "id": "34dd7701",
   "metadata": {
    "tags": [
     "corr_coef"
    ]
   },
   "outputs": [
    {
     "data": {
      "text/plain": [
       "0.03"
      ]
     },
     "execution_count": 594,
     "metadata": {},
     "output_type": "execute_result"
    }
   ],
   "source": [
    "# correlation coef\n",
    "round(df.average_rating.corr(df.text_reviews_count),2)"
   ]
  },
  {
   "cell_type": "markdown",
   "id": "9478d004",
   "metadata": {},
   "source": [
    "The correlation coef is almost 0. This suggest no association between average rating and text reviews count. "
   ]
  },
  {
   "cell_type": "code",
   "execution_count": 595,
   "id": "44c1d079",
   "metadata": {},
   "outputs": [
    {
     "data": {
      "text/plain": [
       "<AxesSubplot: xlabel='ratings_count', ylabel='average_rating'>"
      ]
     },
     "execution_count": 595,
     "metadata": {},
     "output_type": "execute_result"
    },
    {
     "data": {
      "image/png": "[encoded data removed]",
      "text/plain": [
       "<Figure size 640x480 with 1 Axes>"
      ]
     },
     "metadata": {},
     "output_type": "display_data"
    }
   ],
   "source": [
    "# scatter plot average rating. vs ratings count \n",
    "df.plot.scatter(x=\"ratings_count\",y = \"average_rating\")"
   ]
  },
  {
   "cell_type": "code",
   "execution_count": 596,
   "id": "112b2b91",
   "metadata": {},
   "outputs": [
    {
     "data": {
      "text/plain": [
       "0.04"
      ]
     },
     "execution_count": 596,
     "metadata": {},
     "output_type": "execute_result"
    }
   ],
   "source": [
    "# correlation coeff between average rating and ratings count \n",
    "round(df.average_rating.corr(df.ratings_count),2)"
   ]
  },
  {
   "cell_type": "markdown",
   "id": "24256a43",
   "metadata": {},
   "source": [
    "The correlation coefficient between average rating and ratings count is 0.04. This suggest that there is almost no association between average rating and rating count. "
   ]
  },
  {
   "cell_type": "markdown",
   "id": "47d91f8d",
   "metadata": {},
   "source": [
    "what is the average rating of books written in english ?"
   ]
  },
  {
   "cell_type": "code",
   "execution_count": 597,
   "id": "0cfb0ce8",
   "metadata": {},
   "outputs": [
    {
     "data": {
      "text/html": [
       "<div>\n",
       "<style scoped>\n",
       "    .dataframe tbody tr th:only-of-type {\n",
       "        vertical-align: middle;\n",
       "    }\n",
       "\n",
       "    .dataframe tbody tr th {\n",
       "        vertical-align: top;\n",
       "    }\n",
       "\n",
       "    .dataframe thead th {\n",
       "        text-align: right;\n",
       "    }\n",
       "</style>\n",
       "<table border=\"1\" class=\"dataframe\">\n",
       "  <thead>\n",
       "    <tr style=\"text-align: right;\">\n",
       "      <th></th>\n",
       "      <th>average_rating</th>\n",
       "    </tr>\n",
       "    <tr>\n",
       "      <th>language_code_bin</th>\n",
       "      <th></th>\n",
       "    </tr>\n",
       "  </thead>\n",
       "  <tbody>\n",
       "    <tr>\n",
       "      <th>0</th>\n",
       "      <td>3.98</td>\n",
       "    </tr>\n",
       "    <tr>\n",
       "      <th>1</th>\n",
       "      <td>3.93</td>\n",
       "    </tr>\n",
       "  </tbody>\n",
       "</table>\n",
       "</div>"
      ],
      "text/plain": [
       "                   average_rating\n",
       "language_code_bin                \n",
       "0                            3.98\n",
       "1                            3.93"
      ]
     },
     "execution_count": 597,
     "metadata": {},
     "output_type": "execute_result"
    }
   ],
   "source": [
    "(df.groupby(\"language_code_bin\")\n",
    " .agg(\"mean\")\n",
    "[[\"average_rating\"]]\n",
    ".round(2)\n",
    ")"
   ]
  },
  {
   "cell_type": "markdown",
   "id": "4580bde4",
   "metadata": {},
   "source": [
    "On average,books written in English are less well rated than books written in other languages.  but the the difference near 0. "
   ]
  },
  {
   "cell_type": "markdown",
   "id": "7932af2d",
   "metadata": {},
   "source": [
    "=== 2D EDA SUMMARY ===    \n",
    "-numerical features are not strongly associated with average rating if considering a linear assosiation. In a linear modeling numerical features have no effect or a little one on average rating. Let's investigate other models i.e. tree based model or svm. \n",
    "\n",
    "Qualitative variable,i.e. language_code has on average a rating of 3.9"
   ]
  },
  {
   "cell_type": "markdown",
   "id": "7476ebae",
   "metadata": {},
   "source": [
    "4 === features engineering part1  ===  \n",
    "we are going to remove bookID, title , authors,isbn,isbn13, publisher because they have or present no variation and are less informative for our application.  "
   ]
  },
  {
   "cell_type": "code",
   "execution_count": 598,
   "id": "6c860b28",
   "metadata": {},
   "outputs": [
    {
     "data": {
      "text/html": [
       "<div>\n",
       "<style scoped>\n",
       "    .dataframe tbody tr th:only-of-type {\n",
       "        vertical-align: middle;\n",
       "    }\n",
       "\n",
       "    .dataframe tbody tr th {\n",
       "        vertical-align: top;\n",
       "    }\n",
       "\n",
       "    .dataframe thead th {\n",
       "        text-align: right;\n",
       "    }\n",
       "</style>\n",
       "<table border=\"1\" class=\"dataframe\">\n",
       "  <thead>\n",
       "    <tr style=\"text-align: right;\">\n",
       "      <th></th>\n",
       "      <th>bookID</th>\n",
       "      <th>title</th>\n",
       "      <th>authors</th>\n",
       "      <th>isbn</th>\n",
       "      <th>isbn13</th>\n",
       "      <th>publisher</th>\n",
       "    </tr>\n",
       "  </thead>\n",
       "  <tbody>\n",
       "    <tr>\n",
       "      <th>0</th>\n",
       "      <td>1</td>\n",
       "      <td>Harry Potter and the Half-Blood Prince (Harry ...</td>\n",
       "      <td>J.K. Rowling/Mary GrandPré</td>\n",
       "      <td>0439785960</td>\n",
       "      <td>9780439785969</td>\n",
       "      <td>Scholastic Inc.</td>\n",
       "    </tr>\n",
       "    <tr>\n",
       "      <th>1</th>\n",
       "      <td>2</td>\n",
       "      <td>Harry Potter and the Order of the Phoenix (Har...</td>\n",
       "      <td>J.K. Rowling/Mary GrandPré</td>\n",
       "      <td>0439358078</td>\n",
       "      <td>9780439358071</td>\n",
       "      <td>Scholastic Inc.</td>\n",
       "    </tr>\n",
       "    <tr>\n",
       "      <th>2</th>\n",
       "      <td>4</td>\n",
       "      <td>Harry Potter and the Chamber of Secrets (Harry...</td>\n",
       "      <td>J.K. Rowling</td>\n",
       "      <td>0439554896</td>\n",
       "      <td>9780439554893</td>\n",
       "      <td>Scholastic</td>\n",
       "    </tr>\n",
       "    <tr>\n",
       "      <th>3</th>\n",
       "      <td>5</td>\n",
       "      <td>Harry Potter and the Prisoner of Azkaban (Harr...</td>\n",
       "      <td>J.K. Rowling/Mary GrandPré</td>\n",
       "      <td>043965548X</td>\n",
       "      <td>9780439655484</td>\n",
       "      <td>Scholastic Inc.</td>\n",
       "    </tr>\n",
       "    <tr>\n",
       "      <th>4</th>\n",
       "      <td>8</td>\n",
       "      <td>Harry Potter Boxed Set  Books 1-5 (Harry Potte...</td>\n",
       "      <td>J.K. Rowling/Mary GrandPré</td>\n",
       "      <td>0439682584</td>\n",
       "      <td>9780439682589</td>\n",
       "      <td>Scholastic</td>\n",
       "    </tr>\n",
       "    <tr>\n",
       "      <th>...</th>\n",
       "      <td>...</td>\n",
       "      <td>...</td>\n",
       "      <td>...</td>\n",
       "      <td>...</td>\n",
       "      <td>...</td>\n",
       "      <td>...</td>\n",
       "    </tr>\n",
       "    <tr>\n",
       "      <th>11122</th>\n",
       "      <td>45631</td>\n",
       "      <td>Expelled from Eden: A William T. Vollmann Reader</td>\n",
       "      <td>William T. Vollmann/Larry McCaffery/Michael He...</td>\n",
       "      <td>1560254416</td>\n",
       "      <td>9781560254416</td>\n",
       "      <td>Da Capo Press</td>\n",
       "    </tr>\n",
       "    <tr>\n",
       "      <th>11123</th>\n",
       "      <td>45633</td>\n",
       "      <td>You Bright and Risen Angels</td>\n",
       "      <td>William T. Vollmann</td>\n",
       "      <td>0140110879</td>\n",
       "      <td>9780140110876</td>\n",
       "      <td>Penguin Books</td>\n",
       "    </tr>\n",
       "    <tr>\n",
       "      <th>11124</th>\n",
       "      <td>45634</td>\n",
       "      <td>The Ice-Shirt (Seven Dreams #1)</td>\n",
       "      <td>William T. Vollmann</td>\n",
       "      <td>0140131965</td>\n",
       "      <td>9780140131963</td>\n",
       "      <td>Penguin Books</td>\n",
       "    </tr>\n",
       "    <tr>\n",
       "      <th>11125</th>\n",
       "      <td>45639</td>\n",
       "      <td>Poor People</td>\n",
       "      <td>William T. Vollmann</td>\n",
       "      <td>0060878827</td>\n",
       "      <td>9780060878825</td>\n",
       "      <td>Ecco</td>\n",
       "    </tr>\n",
       "    <tr>\n",
       "      <th>11126</th>\n",
       "      <td>45641</td>\n",
       "      <td>Las aventuras de Tom Sawyer</td>\n",
       "      <td>Mark Twain</td>\n",
       "      <td>8497646983</td>\n",
       "      <td>9788497646987</td>\n",
       "      <td>Edimat Libros</td>\n",
       "    </tr>\n",
       "  </tbody>\n",
       "</table>\n",
       "<p>11127 rows × 6 columns</p>\n",
       "</div>"
      ],
      "text/plain": [
       "       bookID                                              title  \\\n",
       "0           1  Harry Potter and the Half-Blood Prince (Harry ...   \n",
       "1           2  Harry Potter and the Order of the Phoenix (Har...   \n",
       "2           4  Harry Potter and the Chamber of Secrets (Harry...   \n",
       "3           5  Harry Potter and the Prisoner of Azkaban (Harr...   \n",
       "4           8  Harry Potter Boxed Set  Books 1-5 (Harry Potte...   \n",
       "...       ...                                                ...   \n",
       "11122   45631   Expelled from Eden: A William T. Vollmann Reader   \n",
       "11123   45633                        You Bright and Risen Angels   \n",
       "11124   45634                    The Ice-Shirt (Seven Dreams #1)   \n",
       "11125   45639                                        Poor People   \n",
       "11126   45641                        Las aventuras de Tom Sawyer   \n",
       "\n",
       "                                                 authors        isbn  \\\n",
       "0                             J.K. Rowling/Mary GrandPré  0439785960   \n",
       "1                             J.K. Rowling/Mary GrandPré  0439358078   \n",
       "2                                           J.K. Rowling  0439554896   \n",
       "3                             J.K. Rowling/Mary GrandPré  043965548X   \n",
       "4                             J.K. Rowling/Mary GrandPré  0439682584   \n",
       "...                                                  ...         ...   \n",
       "11122  William T. Vollmann/Larry McCaffery/Michael He...  1560254416   \n",
       "11123                                William T. Vollmann  0140110879   \n",
       "11124                                William T. Vollmann  0140131965   \n",
       "11125                                William T. Vollmann  0060878827   \n",
       "11126                                         Mark Twain  8497646983   \n",
       "\n",
       "              isbn13        publisher  \n",
       "0      9780439785969  Scholastic Inc.  \n",
       "1      9780439358071  Scholastic Inc.  \n",
       "2      9780439554893       Scholastic  \n",
       "3      9780439655484  Scholastic Inc.  \n",
       "4      9780439682589       Scholastic  \n",
       "...              ...              ...  \n",
       "11122  9781560254416    Da Capo Press  \n",
       "11123  9780140110876    Penguin Books  \n",
       "11124  9780140131963    Penguin Books  \n",
       "11125  9780060878825             Ecco  \n",
       "11126  9788497646987    Edimat Libros  \n",
       "\n",
       "[11127 rows x 6 columns]"
      ]
     },
     "execution_count": 598,
     "metadata": {},
     "output_type": "execute_result"
    }
   ],
   "source": [
    "# create a new dataframe : df1 and remove some features \n",
    "df_qualitative = df[['bookID','title','authors','isbn','isbn13',\n",
    "               'publisher']]\n",
    "df_qualitative"
   ]
  },
  {
   "cell_type": "code",
   "execution_count": 599,
   "id": "d1bc9ecf",
   "metadata": {},
   "outputs": [
    {
     "data": {
      "text/html": [
       "<div>\n",
       "<style scoped>\n",
       "    .dataframe tbody tr th:only-of-type {\n",
       "        vertical-align: middle;\n",
       "    }\n",
       "\n",
       "    .dataframe tbody tr th {\n",
       "        vertical-align: top;\n",
       "    }\n",
       "\n",
       "    .dataframe thead th {\n",
       "        text-align: right;\n",
       "    }\n",
       "</style>\n",
       "<table border=\"1\" class=\"dataframe\">\n",
       "  <thead>\n",
       "    <tr style=\"text-align: right;\">\n",
       "      <th></th>\n",
       "      <th>bookID</th>\n",
       "      <th>title</th>\n",
       "      <th>authors</th>\n",
       "      <th>isbn</th>\n",
       "      <th>isbn13</th>\n",
       "      <th>publisher</th>\n",
       "    </tr>\n",
       "  </thead>\n",
       "  <tbody>\n",
       "    <tr>\n",
       "      <th>0</th>\n",
       "      <td>1</td>\n",
       "      <td>Harry Potter and the Half-Blood Prince (Harry ...</td>\n",
       "      <td>J.K. Rowling/Mary GrandPré</td>\n",
       "      <td>0439785960</td>\n",
       "      <td>9780439785969</td>\n",
       "      <td>Scholastic Inc.</td>\n",
       "    </tr>\n",
       "    <tr>\n",
       "      <th>1</th>\n",
       "      <td>2</td>\n",
       "      <td>Harry Potter and the Order of the Phoenix (Har...</td>\n",
       "      <td>J.K. Rowling/Mary GrandPré</td>\n",
       "      <td>0439358078</td>\n",
       "      <td>9780439358071</td>\n",
       "      <td>Scholastic Inc.</td>\n",
       "    </tr>\n",
       "  </tbody>\n",
       "</table>\n",
       "</div>"
      ],
      "text/plain": [
       "   bookID                                              title  \\\n",
       "0       1  Harry Potter and the Half-Blood Prince (Harry ...   \n",
       "1       2  Harry Potter and the Order of the Phoenix (Har...   \n",
       "\n",
       "                      authors        isbn         isbn13        publisher  \n",
       "0  J.K. Rowling/Mary GrandPré  0439785960  9780439785969  Scholastic Inc.  \n",
       "1  J.K. Rowling/Mary GrandPré  0439358078  9780439358071  Scholastic Inc.  "
      ]
     },
     "execution_count": 599,
     "metadata": {},
     "output_type": "execute_result"
    }
   ],
   "source": [
    "df_qualitative.head(2)"
   ]
  },
  {
   "cell_type": "markdown",
   "id": "1da42a77",
   "metadata": {},
   "source": [
    "4.1 Discretize average_rating"
   ]
  },
  {
   "cell_type": "code",
   "execution_count": 600,
   "id": "0edc2361",
   "metadata": {},
   "outputs": [
    {
     "name": "stderr",
     "output_type": "stream",
     "text": [
      "/var/folders/dr/qtbb25gd2pl7ssnx51bqxv6r0000gp/T/ipykernel_1136/744164174.py:6: SettingWithCopyWarning: \n",
      "A value is trying to be set on a copy of a slice from a DataFrame.\n",
      "Try using .loc[row_indexer,col_indexer] = value instead\n",
      "\n",
      "See the caveats in the documentation: https://pandas.pydata.org/pandas-docs/stable/user_guide/indexing.html#returning-a-view-versus-a-copy\n",
      "  df_qualitative[\"av_cat\"] = av_cat\n"
     ]
    }
   ],
   "source": [
    "# discretize average rating \n",
    "av_cat = []\n",
    "av_cat = pd.cut(df.average_rating,bins=[0,1,2,3,4,5,6],\n",
    "                    labels = [\"0\",\"1\",\"2\",\"3\",\"4\",\"5\"],\n",
    "                    include_lowest=True)\n",
    "df_qualitative[\"av_cat\"] = av_cat"
   ]
  },
  {
   "cell_type": "code",
   "execution_count": 601,
   "id": "a693c6f0",
   "metadata": {},
   "outputs": [
    {
     "data": {
      "text/plain": [
       "0    4\n",
       "1    4\n",
       "2    4\n",
       "Name: av_cat, dtype: category\n",
       "Categories (6, object): ['0' < '1' < '2' < '3' < '4' < '5']"
      ]
     },
     "execution_count": 601,
     "metadata": {},
     "output_type": "execute_result"
    }
   ],
   "source": [
    "# head average rating \n",
    "df_qualitative.av_cat.head(3)"
   ]
  },
  {
   "cell_type": "code",
   "execution_count": 602,
   "id": "26460dcf",
   "metadata": {},
   "outputs": [
    {
     "data": {
      "text/plain": [
       "11124    3\n",
       "11125    3\n",
       "11126    3\n",
       "Name: av_cat, dtype: category\n",
       "Categories (6, object): ['0' < '1' < '2' < '3' < '4' < '5']"
      ]
     },
     "execution_count": 602,
     "metadata": {},
     "output_type": "execute_result"
    }
   ],
   "source": [
    "# tail av rating \n",
    "df_qualitative.av_cat.tail(3)"
   ]
  },
  {
   "cell_type": "code",
   "execution_count": 603,
   "id": "ed26b89f",
   "metadata": {},
   "outputs": [
    {
     "data": {
      "text/plain": [
       "3    0.565\n",
       "4    0.426\n",
       "2    0.006\n",
       "0    0.003\n",
       "1    0.001\n",
       "5    0.000\n",
       "Name: av_cat, dtype: float64"
      ]
     },
     "execution_count": 603,
     "metadata": {},
     "output_type": "execute_result"
    }
   ],
   "source": [
    "# proportion of classes in the data \n",
    "round(df_qualitative.av_cat.value_counts()/ len(df1.av_cat),3)"
   ]
  },
  {
   "cell_type": "markdown",
   "id": "70ce0e44",
   "metadata": {},
   "source": [
    "There is 40% of data in class 4 and 56% in class 3. "
   ]
  },
  {
   "cell_type": "code",
   "execution_count": 604,
   "id": "7d582e0c",
   "metadata": {},
   "outputs": [
    {
     "data": {
      "text/plain": [
       "<AxesSubplot: >"
      ]
     },
     "execution_count": 604,
     "metadata": {},
     "output_type": "execute_result"
    },
    {
     "data": {
      "image/png": "[encoded data removed]",
      "text/plain": [
       "<Figure size 640x480 with 1 Axes>"
      ]
     },
     "metadata": {},
     "output_type": "display_data"
    }
   ],
   "source": [
    "df_qualitative.av_cat.hist()"
   ]
  },
  {
   "cell_type": "markdown",
   "id": "31cf208c",
   "metadata": {},
   "source": [
    "Discretizing average_rating  make it unbalanced data.  \n",
    "We need to fix unbalalced data."
   ]
  },
  {
   "cell_type": "markdown",
   "id": "2f4da1fd",
   "metadata": {},
   "source": [
    "================================ REGRESSION ========================================"
   ]
  },
  {
   "cell_type": "markdown",
   "id": "d9bdbee6",
   "metadata": {},
   "source": [
    "4.2 Splitting data "
   ]
  },
  {
   "cell_type": "code",
   "execution_count": 605,
   "id": "d6be1e23",
   "metadata": {},
   "outputs": [],
   "source": [
    "# selecting numerical features\n",
    "df_final = df[['average_rating', 'num_pages','text_reviews_count', \n",
    "          \"language_code_bin\"]]"
   ]
  },
  {
   "cell_type": "code",
   "execution_count": 606,
   "id": "bfcc8a94",
   "metadata": {},
   "outputs": [],
   "source": [
    "from sklearn.model_selection import train_test_split\n",
    "train0,test = train_test_split(df_final, test_size= 20,random_state=42)"
   ]
  },
  {
   "cell_type": "code",
   "execution_count": 607,
   "id": "7c8467d0",
   "metadata": {},
   "outputs": [],
   "source": [
    "# split train0 in train and valid \n",
    "train,valid = train_test_split(train0,test_size=40,random_state=42)"
   ]
  },
  {
   "cell_type": "code",
   "execution_count": 608,
   "id": "ed52ab29",
   "metadata": {},
   "outputs": [],
   "source": [
    "# subsetting \n",
    "# train0\n",
    "X_train0 = train0.drop(\"average_rating\",axis = 1)\n",
    "y_train0 = train0.average_rating\n",
    "\n",
    "# train\n",
    "X_train = train.drop(\"average_rating\",axis = 1)\n",
    "y_train = train.average_rating\n",
    "\n",
    "# valid \n",
    "X_valid = valid.drop(\"average_rating\",axis=1)\n",
    "y_valid = valid.average_rating\n",
    "\n",
    "# test \n",
    "X_test = test.drop(\"average_rating\",axis = 1)\n",
    "y_test = test.average_rating"
   ]
  },
  {
   "cell_type": "markdown",
   "id": "91b32b14",
   "metadata": {},
   "source": [
    "5 modelling : model testing "
   ]
  },
  {
   "cell_type": "markdown",
   "id": "e7a64e83",
   "metadata": {},
   "source": [
    "5.1 Linear models"
   ]
  },
  {
   "cell_type": "markdown",
   "id": "f753dc5c",
   "metadata": {},
   "source": [
    "-linear model : OLS"
   ]
  },
  {
   "cell_type": "code",
   "execution_count": 609,
   "id": "01aefb2d",
   "metadata": {},
   "outputs": [
    {
     "data": {
      "text/plain": [
       "LinearRegression()"
      ]
     },
     "execution_count": 609,
     "metadata": {},
     "output_type": "execute_result"
    }
   ],
   "source": [
    "# linear model \n",
    "from sklearn import linear_model\n",
    "reg = linear_model.LinearRegression()\n",
    "reg.fit(X_train,y_train)\n"
   ]
  },
  {
   "cell_type": "markdown",
   "id": "7342c7a1",
   "metadata": {},
   "source": [
    "-regularized linear models"
   ]
  },
  {
   "cell_type": "markdown",
   "id": "23c2792b",
   "metadata": {},
   "source": [
    "-Ridge : alpha = 0.01 "
   ]
  },
  {
   "cell_type": "code",
   "execution_count": 610,
   "id": "55e71c99",
   "metadata": {},
   "outputs": [
    {
     "data": {
      "text/plain": [
       "Ridge(alpha=0.01)"
      ]
     },
     "execution_count": 610,
     "metadata": {},
     "output_type": "execute_result"
    }
   ],
   "source": [
    "# regularized model : ridge model, alpha = 0.1 \n",
    "reg_ridge = linear_model.Ridge(alpha=0.01)\n",
    "reg_ridge.fit(X_train,y_train)"
   ]
  },
  {
   "cell_type": "markdown",
   "id": "ccf05111",
   "metadata": {},
   "source": [
    "-ridge alphas, cv = 5"
   ]
  },
  {
   "cell_type": "code",
   "execution_count": 611,
   "id": "0d2dd4dd",
   "metadata": {},
   "outputs": [
    {
     "data": {
      "text/plain": [
       "RidgeCV(alphas=array([0.001, 0.01 ]), cv=5)"
      ]
     },
     "execution_count": 611,
     "metadata": {},
     "output_type": "execute_result"
    }
   ],
   "source": [
    "# ridge model with cross validation \n",
    "# regularized model : ridge model with cv =5\n",
    "reg_ridge_CV = linear_model.RidgeCV(alphas=[0.001,0.01],cv=5)\n",
    "reg_ridge_CV.fit(X_train0,y_train0)"
   ]
  },
  {
   "cell_type": "markdown",
   "id": "d921b419",
   "metadata": {},
   "source": [
    "-Lasso"
   ]
  },
  {
   "cell_type": "code",
   "execution_count": 612,
   "id": "06e11c43",
   "metadata": {},
   "outputs": [
    {
     "data": {
      "text/plain": [
       "Lasso(alpha=0.5)"
      ]
     },
     "execution_count": 612,
     "metadata": {},
     "output_type": "execute_result"
    }
   ],
   "source": [
    "#from sklearn import linear_model, alpha = 0.5\n",
    "reg_lasso = linear_model.Lasso(alpha=0.5)\n",
    "reg_lasso.fit(X_train,y_train)"
   ]
  },
  {
   "cell_type": "markdown",
   "id": "cfe850d2",
   "metadata": {},
   "source": [
    "5.2 Tree based model "
   ]
  },
  {
   "cell_type": "code",
   "execution_count": 613,
   "id": "80c69f25",
   "metadata": {},
   "outputs": [],
   "source": [
    "# tree based model \n",
    "from sklearn import tree\n",
    "regressor = tree.DecisionTreeRegressor(random_state=40)\n",
    "tree_reg= regressor.fit(X_train,y_train)"
   ]
  },
  {
   "cell_type": "markdown",
   "id": "0487847d",
   "metadata": {},
   "source": [
    "5.3 Ensemble models"
   ]
  },
  {
   "cell_type": "code",
   "execution_count": 614,
   "id": "f63624c1",
   "metadata": {},
   "outputs": [
    {
     "data": {
      "text/plain": [
       "RandomForestRegressor(random_state=42)"
      ]
     },
     "execution_count": 614,
     "metadata": {},
     "output_type": "execute_result"
    }
   ],
   "source": [
    " #random forest\n",
    "from sklearn.ensemble import RandomForestRegressor \n",
    "rf = RandomForestRegressor(n_estimators= 100,\n",
    "#max_depth = 5,\n",
    "random_state=42)\n",
    "rf.fit(X_train,y_train)"
   ]
  },
  {
   "cell_type": "markdown",
   "id": "a8671773",
   "metadata": {},
   "source": [
    "5.4 Support vectors machine "
   ]
  },
  {
   "cell_type": "code",
   "execution_count": 615,
   "id": "c974678b",
   "metadata": {},
   "outputs": [
    {
     "data": {
      "text/plain": [
       "Pipeline(steps=[('standardscaler', StandardScaler()),\n",
       "                ('linearsvr',\n",
       "                 LinearSVR(max_iter=100000, random_state=0, tol=1e-05))])"
      ]
     },
     "execution_count": 615,
     "metadata": {},
     "output_type": "execute_result"
    }
   ],
   "source": [
    "# linear svm\n",
    "from sklearn.svm import LinearSVR\n",
    "from sklearn.pipeline import make_pipeline\n",
    "from sklearn.preprocessing import StandardScaler\n",
    "from sklearn.datasets import make_regression\n",
    "X, y = make_regression(n_features=4, random_state=0)\n",
    "svm_regr = make_pipeline(StandardScaler(),\n",
    "                     LinearSVR(random_state=0, tol=1e-5,max_iter=100000))\n",
    "svm_regr.fit(X, y)\n",
    "\n",
    "#"
   ]
  },
  {
   "cell_type": "markdown",
   "id": "04bf098e",
   "metadata": {},
   "source": [
    "5.5 gbm"
   ]
  },
  {
   "cell_type": "code",
   "execution_count": 616,
   "id": "7b2602a4",
   "metadata": {},
   "outputs": [
    {
     "data": {
      "text/plain": [
       "GradientBoostingRegressor(random_state=0)"
      ]
     },
     "execution_count": 616,
     "metadata": {},
     "output_type": "execute_result"
    }
   ],
   "source": [
    "from sklearn.ensemble import GradientBoostingRegressor\n",
    "gbm = GradientBoostingRegressor(random_state=0)\n",
    "gbm.fit(X_train, y_train)"
   ]
  },
  {
   "cell_type": "code",
   "execution_count": 617,
   "id": "c54b8566",
   "metadata": {},
   "outputs": [],
   "source": [
    "# cross val custom function \n",
    "def model_cross_val(models={}, X_validation=None,y_validation= None,cv=None, scoring = \"neg_mean_squared_error\"):\n",
    "    from sklearn.model_selection import cross_val_score\n",
    "    table = []\n",
    "    for model in models :\n",
    "        score = abs(\n",
    "            cross_val_score(models[model],\n",
    "                            X_validation,\n",
    "                            y_validation,\n",
    "                            cv=cv,\n",
    "                            scoring=scoring ).mean()\n",
    "        )\n",
    "        score = pow(score,.5)\n",
    "        table.append(score)\n",
    "    print(\n",
    "         pd.DataFrame(data = table,index = models,columns = [\"rmse\"])\n",
    "        .sort_values(by =\"rmse\")\n",
    "        \n",
    "    )\n",
    "\n"
   ]
  },
  {
   "cell_type": "markdown",
   "id": "f395fcd2",
   "metadata": {},
   "source": [
    " Models dictionary for performance "
   ]
  },
  {
   "cell_type": "code",
   "execution_count": 618,
   "id": "8be2b054",
   "metadata": {},
   "outputs": [],
   "source": [
    "# models to cross-validate \n",
    "\n",
    "# models to cross validate\n",
    "models = {\"linear reg\": reg,\n",
    "          \"ridge model\":reg_ridge,\n",
    "          \"lasso model \": reg_lasso,\n",
    "          \"ridge CV\":reg_ridge_CV,\n",
    "          \"random forest\":rf,\n",
    "          \"linear svm\":svm_regr,\n",
    "           \"gbm\": gbm\n",
    "         }"
   ]
  },
  {
   "cell_type": "code",
   "execution_count": 619,
   "id": "f2588bdc",
   "metadata": {},
   "outputs": [
    {
     "name": "stdout",
     "output_type": "stream",
     "text": [
      "                   rmse\n",
      "linear svm     0.363405\n",
      "lasso model    0.363797\n",
      "ridge model    0.364707\n",
      "ridge CV       0.364707\n",
      "linear reg     0.364769\n",
      "random forest  0.395679\n",
      "gbm            0.474387\n"
     ]
    }
   ],
   "source": [
    "# cross validation  \n",
    "model_cross_val(models,X_valid,y_valid,cv= 10)"
   ]
  },
  {
   "cell_type": "code",
   "execution_count": 620,
   "id": "9f140ad4",
   "metadata": {},
   "outputs": [],
   "source": [
    "# detect and remove outliers function\n",
    "def remove_outliers(X,bins = 50, plot = \"bool\"):\n",
    "    # q1 and q3 quantiles\n",
    "    q1,q3 = X.quantile([0.25,0.75])\n",
    "\n",
    "    #interquatile range \n",
    "    iqr = q3 - q1\n",
    "   \n",
    "\n",
    "    # remove  q1 - 1.5*iqr or  q3 + 1.5*iqr:\n",
    "    X =  X[X.between(q1 - 1.5*iqr, q3 + 1.5*iqr,inclusive = \"both\")]\n",
    "       \n",
    "\n",
    "    # histogram\n",
    "    if plot :\n",
    "          X.hist( bins = bins,legend = {\"\"})\n",
    "    return X\n",
    "\n"
   ]
  },
  {
   "cell_type": "code",
   "execution_count": 621,
   "id": "830d197d",
   "metadata": {},
   "outputs": [],
   "source": [
    "# remove ouliers OR NOT\n",
    "q1,q3 = df.average_rating.quantile([.25,.75])\n",
    "iqr = q3 - q1\n",
    "#df_mdl = df_final[df_final.average_rating.between(q1 - 1.5*iqr, q3 + 1.5*iqr,inclusive = \"both\")]\n",
    "df_mdl = df[[\"average_rating\",\"num_pages\",\"language_code_bin\"]]"
   ]
  },
  {
   "cell_type": "code",
   "execution_count": 622,
   "id": "f1a694e3",
   "metadata": {},
   "outputs": [
    {
     "data": {
      "text/html": [
       "<div>\n",
       "<style scoped>\n",
       "    .dataframe tbody tr th:only-of-type {\n",
       "        vertical-align: middle;\n",
       "    }\n",
       "\n",
       "    .dataframe tbody tr th {\n",
       "        vertical-align: top;\n",
       "    }\n",
       "\n",
       "    .dataframe thead th {\n",
       "        text-align: right;\n",
       "    }\n",
       "</style>\n",
       "<table border=\"1\" class=\"dataframe\">\n",
       "  <thead>\n",
       "    <tr style=\"text-align: right;\">\n",
       "      <th></th>\n",
       "      <th>average_rating</th>\n",
       "      <th>num_pages</th>\n",
       "      <th>language_code_bin</th>\n",
       "    </tr>\n",
       "  </thead>\n",
       "  <tbody>\n",
       "    <tr>\n",
       "      <th>0</th>\n",
       "      <td>4.57</td>\n",
       "      <td>652</td>\n",
       "      <td>1</td>\n",
       "    </tr>\n",
       "    <tr>\n",
       "      <th>1</th>\n",
       "      <td>4.49</td>\n",
       "      <td>870</td>\n",
       "      <td>1</td>\n",
       "    </tr>\n",
       "  </tbody>\n",
       "</table>\n",
       "</div>"
      ],
      "text/plain": [
       "   average_rating  num_pages  language_code_bin\n",
       "0            4.57        652                  1\n",
       "1            4.49        870                  1"
      ]
     },
     "execution_count": 622,
     "metadata": {},
     "output_type": "execute_result"
    }
   ],
   "source": [
    "df_mdl.head(2)"
   ]
  },
  {
   "cell_type": "code",
   "execution_count": 623,
   "id": "d0f3d73e",
   "metadata": {},
   "outputs": [
    {
     "data": {
      "text/plain": [
       "<AxesSubplot: >"
      ]
     },
     "execution_count": 623,
     "metadata": {},
     "output_type": "execute_result"
    },
    {
     "data": {
      "image/png": "[encoded data removed]",
      "text/plain": [
       "<Figure size 640x480 with 1 Axes>"
      ]
     },
     "metadata": {},
     "output_type": "display_data"
    }
   ],
   "source": [
    "df_mdl.average_rating.hist(bins = 100)\n"
   ]
  },
  {
   "cell_type": "code",
   "execution_count": 624,
   "id": "5038acf6",
   "metadata": {},
   "outputs": [
    {
     "data": {
      "text/plain": [
       "0        4.57\n",
       "1        4.49\n",
       "2        4.42\n",
       "3        4.56\n",
       "5        3.74\n",
       "         ... \n",
       "11122    4.06\n",
       "11123    4.08\n",
       "11124    3.96\n",
       "11125    3.72\n",
       "11126    3.91\n",
       "Name: average_rating, Length: 10877, dtype: float64"
      ]
     },
     "execution_count": 624,
     "metadata": {},
     "output_type": "execute_result"
    },
    {
     "data": {
      "image/png": "[encoded data removed]",
      "text/plain": [
       "<Figure size 640x480 with 1 Axes>"
      ]
     },
     "metadata": {},
     "output_type": "display_data"
    }
   ],
   "source": [
    "\n",
    "remove_outliers(df_mdl.average_rating, bins = 30)\n"
   ]
  },
  {
   "cell_type": "code",
   "execution_count": 625,
   "id": "0dfee356",
   "metadata": {},
   "outputs": [
    {
     "data": {
      "text/plain": [
       "count    10877.000000\n",
       "mean         3.954758\n",
       "std          0.261329\n",
       "min          3.230000\n",
       "25%          3.790000\n",
       "50%          3.960000\n",
       "75%          4.140000\n",
       "max          4.670000\n",
       "Name: average_rating, dtype: float64"
      ]
     },
     "execution_count": 625,
     "metadata": {},
     "output_type": "execute_result"
    }
   ],
   "source": [
    "remove_outliers(df_mdl.average_rating, plot = False).describe()"
   ]
  },
  {
   "cell_type": "code",
   "execution_count": 626,
   "id": "1f8c05c9",
   "metadata": {},
   "outputs": [
    {
     "data": {
      "text/plain": [
       "0        652\n",
       "2        352\n",
       "3        435\n",
       "5        152\n",
       "9        215\n",
       "        ... \n",
       "11122    512\n",
       "11123    635\n",
       "11124    415\n",
       "11125    434\n",
       "11126    272\n",
       "Name: num_pages, Length: 10587, dtype: int64"
      ]
     },
     "execution_count": 626,
     "metadata": {},
     "output_type": "execute_result"
    },
    {
     "data": {
      "image/png": "[encoded data removed]",
      "text/plain": [
       "<Figure size 640x480 with 1 Axes>"
      ]
     },
     "metadata": {},
     "output_type": "display_data"
    }
   ],
   "source": [
    "# remove outliers from num_pages\n",
    "remove_outliers(df_mdl.num_pages,bins = 30)"
   ]
  },
  {
   "cell_type": "markdown",
   "id": "76cc74b1",
   "metadata": {},
   "source": [
    "Removing outliers, concentrate average rating between 3.9 and 4.6. "
   ]
  },
  {
   "cell_type": "markdown",
   "id": "579eb540",
   "metadata": {},
   "source": [
    "We end up with 11098 cases.  "
   ]
  },
  {
   "cell_type": "code",
   "execution_count": 627,
   "id": "41bac2eb",
   "metadata": {},
   "outputs": [],
   "source": [
    "from sklearn.model_selection import train_test_split\n",
    "# split data\n",
    "train,test = train_test_split(df_mdl, test_size= 0.4,random_state=42)\n",
    "\n",
    "# train\n",
    "X_train = train.drop(\"average_rating\",axis=1)\n",
    "y_train = train.average_rating\n",
    "\n",
    "# test\n",
    "X_test = test.drop(\"average_rating\",axis=1)\n",
    "y_test = test.average_rating"
   ]
  },
  {
   "cell_type": "code",
   "execution_count": 628,
   "id": "6734a8c2",
   "metadata": {},
   "outputs": [
    {
     "data": {
      "text/html": [
       "<div>\n",
       "<style scoped>\n",
       "    .dataframe tbody tr th:only-of-type {\n",
       "        vertical-align: middle;\n",
       "    }\n",
       "\n",
       "    .dataframe tbody tr th {\n",
       "        vertical-align: top;\n",
       "    }\n",
       "\n",
       "    .dataframe thead th {\n",
       "        text-align: right;\n",
       "    }\n",
       "</style>\n",
       "<table border=\"1\" class=\"dataframe\">\n",
       "  <thead>\n",
       "    <tr style=\"text-align: right;\">\n",
       "      <th></th>\n",
       "      <th>num_pages</th>\n",
       "      <th>language_code_bin</th>\n",
       "    </tr>\n",
       "  </thead>\n",
       "  <tbody>\n",
       "    <tr>\n",
       "      <th>237</th>\n",
       "      <td>752</td>\n",
       "      <td>1</td>\n",
       "    </tr>\n",
       "    <tr>\n",
       "      <th>1532</th>\n",
       "      <td>168</td>\n",
       "      <td>1</td>\n",
       "    </tr>\n",
       "  </tbody>\n",
       "</table>\n",
       "</div>"
      ],
      "text/plain": [
       "      num_pages  language_code_bin\n",
       "237         752                  1\n",
       "1532        168                  1"
      ]
     },
     "execution_count": 628,
     "metadata": {},
     "output_type": "execute_result"
    }
   ],
   "source": [
    "X_train.head(2)"
   ]
  },
  {
   "cell_type": "code",
   "execution_count": 629,
   "id": "58f9db08",
   "metadata": {},
   "outputs": [
    {
     "data": {
      "text/plain": [
       "LinearRegression()"
      ]
     },
     "execution_count": 629,
     "metadata": {},
     "output_type": "execute_result"
    }
   ],
   "source": [
    "# linear model \n",
    "reg.fit(X_train,y_train)"
   ]
  },
  {
   "cell_type": "code",
   "execution_count": 630,
   "id": "8271087b",
   "metadata": {},
   "outputs": [
    {
     "name": "stdout",
     "output_type": "stream",
     "text": [
      "                                 OLS Regression Results                                \n",
      "=======================================================================================\n",
      "Dep. Variable:         average_rating   R-squared (uncentered):                   0.946\n",
      "Model:                            OLS   Adj. R-squared (uncentered):              0.946\n",
      "Method:                 Least Squares   F-statistic:                          5.794e+04\n",
      "Date:                Sat, 25 Mar 2023   Prob (F-statistic):                        0.00\n",
      "Time:                        18:28:37   Log-Likelihood:                         -8926.9\n",
      "No. Observations:                6676   AIC:                                  1.786e+04\n",
      "Df Residuals:                    6674   BIC:                                  1.787e+04\n",
      "Df Model:                           2                                                  \n",
      "Covariance Type:            nonrobust                                                  \n",
      "=====================================================================================\n",
      "                        coef    std err          t      P>|t|      [0.025      0.975]\n",
      "-------------------------------------------------------------------------------------\n",
      "num_pages             0.0014   4.49e-05     30.883      0.000       0.001       0.001\n",
      "language_code_bin     3.4658      0.019    182.413      0.000       3.429       3.503\n",
      "==============================================================================\n",
      "Omnibus:                     3439.790   Durbin-Watson:                   1.933\n",
      "Prob(Omnibus):                  0.000   Jarque-Bera (JB):            28596.432\n",
      "Skew:                           2.332   Prob(JB):                         0.00\n",
      "Kurtosis:                      12.002   Cond. No.                         694.\n",
      "==============================================================================\n",
      "\n",
      "Notes:\n",
      "[1] R² is computed without centering (uncentered) since the model does not contain a constant.\n",
      "[2] Standard Errors assume that the covariance matrix of the errors is correctly specified.\n"
     ]
    }
   ],
   "source": [
    "# stats model package\n",
    "X = sm.add_constant(X_train)\n",
    "mdl = sm.OLS(y_train,X_train)\n",
    "fit = mdl.fit()\n",
    "# print model \n",
    "print(fit.summary())"
   ]
  },
  {
   "cell_type": "markdown",
   "id": "88449bdb",
   "metadata": {},
   "source": [
    "In a linear regression setting, ratings_count has a negative influence on average rating  \n"
   ]
  },
  {
   "cell_type": "markdown",
   "id": "ffd933a0",
   "metadata": {},
   "source": [
    "!!! Without outliers, we do not have multicollinearity in data in the above summary table. "
   ]
  },
  {
   "cell_type": "code",
   "execution_count": 631,
   "id": "d1338305",
   "metadata": {},
   "outputs": [
    {
     "data": {
      "text/plain": [
       "Lasso(alpha=0.5)"
      ]
     },
     "execution_count": 631,
     "metadata": {},
     "output_type": "execute_result"
    }
   ],
   "source": [
    "# lasso\n",
    "reg_lasso.fit(X_train,y_train)"
   ]
  },
  {
   "cell_type": "code",
   "execution_count": 632,
   "id": "48740eb5",
   "metadata": {},
   "outputs": [
    {
     "data": {
      "text/plain": [
       "Ridge(alpha=0.01)"
      ]
     },
     "execution_count": 632,
     "metadata": {},
     "output_type": "execute_result"
    }
   ],
   "source": [
    "#ridge\n",
    "reg_ridge.fit(X_train,y_train)"
   ]
  },
  {
   "cell_type": "code",
   "execution_count": 633,
   "id": "639fda74",
   "metadata": {},
   "outputs": [
    {
     "data": {
      "text/plain": [
       "RandomForestRegressor(random_state=42)"
      ]
     },
     "execution_count": 633,
     "metadata": {},
     "output_type": "execute_result"
    }
   ],
   "source": [
    "# random forest\n",
    "rf.fit(X_train,y_train)"
   ]
  },
  {
   "cell_type": "code",
   "execution_count": 634,
   "id": "efbab8d5",
   "metadata": {},
   "outputs": [
    {
     "data": {
      "text/plain": [
       "Pipeline(steps=[('standardscaler', StandardScaler()),\n",
       "                ('linearsvr',\n",
       "                 LinearSVR(max_iter=100000, random_state=0, tol=1e-05))])"
      ]
     },
     "execution_count": 634,
     "metadata": {},
     "output_type": "execute_result"
    }
   ],
   "source": [
    "# svm\n",
    "svm_regr.fit(X_train, y_train)"
   ]
  },
  {
   "cell_type": "code",
   "execution_count": 635,
   "id": "973c1d0e",
   "metadata": {},
   "outputs": [
    {
     "data": {
      "text/plain": [
       "GradientBoostingRegressor(random_state=0)"
      ]
     },
     "execution_count": 635,
     "metadata": {},
     "output_type": "execute_result"
    }
   ],
   "source": [
    "gbm = GradientBoostingRegressor(random_state=42)\n",
    "gbm.fit(X_train, y_train)\n",
    "GradientBoostingRegressor(random_state=0)"
   ]
  },
  {
   "cell_type": "markdown",
   "id": "c3975969",
   "metadata": {},
   "source": [
    "7 Models new evaluation"
   ]
  },
  {
   "cell_type": "code",
   "execution_count": 636,
   "id": "835ca536",
   "metadata": {},
   "outputs": [
    {
     "name": "stdout",
     "output_type": "stream",
     "text": [
      "                   rmse\n",
      "ridge model    0.346476\n",
      "ridge CV       0.346476\n",
      "linear reg     0.346476\n",
      "lasso model    0.346712\n",
      "linear svm     0.347041\n",
      "gbm            0.348566\n",
      "random forest  0.370773\n"
     ]
    }
   ],
   "source": [
    "model_cross_val(models,X_validation=X_test, y_validation=y_test, cv = 10)"
   ]
  },
  {
   "cell_type": "markdown",
   "id": "f613040f",
   "metadata": {},
   "source": [
    "== Regression application : conclusion  === \n",
    "* The models performance is better without outliers.  \n",
    "* Linear models are better than non-linear ones in general, but the difference is not so big than that. \n",
    "* The candidate models could be  gbm, Lasso and ridge with CV, i.e. Regularized linear regression models."
   ]
  },
  {
   "cell_type": "markdown",
   "id": "f15d8760",
   "metadata": {},
   "source": [
    "==== model evaluation : hyper parmeters search ==="
   ]
  },
  {
   "cell_type": "code",
   "execution_count": 637,
   "id": "62b16dc7",
   "metadata": {},
   "outputs": [],
   "source": [
    " # IMPORT validation curve \n",
    "from sklearn.model_selection import validation_curve"
   ]
  },
  {
   "cell_type": "code",
   "execution_count": 638,
   "id": "9f26c687",
   "metadata": {},
   "outputs": [
    {
     "data": {
      "text/plain": [
       "{'alpha': 0.9,\n",
       " 'ccp_alpha': 0.0,\n",
       " 'criterion': 'friedman_mse',\n",
       " 'init': None,\n",
       " 'learning_rate': 0.1,\n",
       " 'loss': 'squared_error',\n",
       " 'max_depth': 3,\n",
       " 'max_features': None,\n",
       " 'max_leaf_nodes': None,\n",
       " 'min_impurity_decrease': 0.0,\n",
       " 'min_samples_leaf': 1,\n",
       " 'min_samples_split': 2,\n",
       " 'min_weight_fraction_leaf': 0.0,\n",
       " 'n_estimators': 100,\n",
       " 'n_iter_no_change': None,\n",
       " 'random_state': 42,\n",
       " 'subsample': 1.0,\n",
       " 'tol': 0.0001,\n",
       " 'validation_fraction': 0.1,\n",
       " 'verbose': 0,\n",
       " 'warm_start': False}"
      ]
     },
     "execution_count": 638,
     "metadata": {},
     "output_type": "execute_result"
    }
   ],
   "source": [
    "# gbm hyper params search : gbm hyper-params \n",
    "gbm.get_params()"
   ]
  },
  {
   "cell_type": "code",
   "execution_count": 639,
   "id": "6a76b307",
   "metadata": {},
   "outputs": [
    {
     "name": "stderr",
     "output_type": "stream",
     "text": [
      "/Users/mpaga/opt/anaconda3/lib/python3.9/site-packages/sklearn/model_selection/_search.py:978: RuntimeWarning: overflow encountered in square\n",
      "  (array - array_means[:, np.newaxis]) ** 2, axis=1, weights=weights\n"
     ]
    }
   ],
   "source": [
    "# search strategy : halving random search\n",
    "#from sklearn.experimental import enable_halving_search_cv  # noqa\n",
    "from sklearn.model_selection import RandomizedSearchCV\n",
    "#from scipy.stats import uniform\n",
    "\n",
    "# hyper-params search\n",
    "distributions = dict(alpha=[0.1,0.2,0.3,0.4,0.5],\n",
    "                      learning_rate=[0.001,0.1,1,10],\n",
    "                      max_depth = [1,2,3,4])\n",
    "\n",
    "gbm_hp = RandomizedSearchCV(gbm, distributions,\n",
    "                            scoring = [\"max_error\",\"r2\"],\n",
    "                            random_state=0,\n",
    "                           refit = \"max_error\")\n",
    "search_gbm = gbm_hp.fit(X_train, y_train)"
   ]
  },
  {
   "cell_type": "code",
   "execution_count": 640,
   "id": "a9fcedfc",
   "metadata": {},
   "outputs": [
    {
     "data": {
      "text/plain": [
       "GradientBoostingRegressor(alpha=0.5, max_depth=1, random_state=42)"
      ]
     },
     "execution_count": 640,
     "metadata": {},
     "output_type": "execute_result"
    }
   ],
   "source": [
    "search_gbm.best_estimator_"
   ]
  },
  {
   "cell_type": "code",
   "execution_count": 641,
   "id": "0cb5d0b0",
   "metadata": {},
   "outputs": [],
   "source": [
    "#gbm evaluation\n",
    "gbm_hp2 = search_gbm.best_estimator_\n",
    "                   "
   ]
  },
  {
   "cell_type": "code",
   "execution_count": 642,
   "id": "51d07063",
   "metadata": {},
   "outputs": [
    {
     "data": {
      "text/plain": [
       "{'alpha': 0.5,\n",
       " 'copy_X': True,\n",
       " 'fit_intercept': True,\n",
       " 'max_iter': 1000,\n",
       " 'normalize': 'deprecated',\n",
       " 'positive': False,\n",
       " 'precompute': False,\n",
       " 'random_state': None,\n",
       " 'selection': 'cyclic',\n",
       " 'tol': 0.0001,\n",
       " 'warm_start': False}"
      ]
     },
     "execution_count": 642,
     "metadata": {},
     "output_type": "execute_result"
    }
   ],
   "source": [
    "# lasso hyper-params  list\n",
    "reg_lasso.get_params()"
   ]
  },
  {
   "cell_type": "code",
   "execution_count": 643,
   "id": "ce23f39e",
   "metadata": {},
   "outputs": [
    {
     "name": "stderr",
     "output_type": "stream",
     "text": [
      "/Users/mpaga/opt/anaconda3/lib/python3.9/site-packages/sklearn/model_selection/_search.py:292: UserWarning: The total space of parameters 5 is smaller than n_iter=10. Running 5 iterations. For exhaustive searches, use GridSearchCV.\n",
      "  warnings.warn(\n"
     ]
    }
   ],
   "source": [
    "# lasso evaluation\n",
    "distributions = dict(alpha=[0.1,0.2,0.3,0.4,0.5])\n",
    "\n",
    "# hyper-params search \n",
    "lasso_hp = RandomizedSearchCV(reg_lasso, \n",
    "                              distributions, \n",
    "                              scoring = [\"max_error\",\"r2\"],\n",
    "                              refit = \"max_error\",\n",
    "                              random_state=0)\n",
    "search_lasso = lasso_hp.fit(X_train, y_train)\n",
    "lasso_hp2 = search_lasso.best_estimator_"
   ]
  },
  {
   "cell_type": "code",
   "execution_count": 644,
   "id": "6fae047d",
   "metadata": {},
   "outputs": [
    {
     "data": {
      "text/plain": [
       "Lasso(alpha=0.1)"
      ]
     },
     "execution_count": 644,
     "metadata": {},
     "output_type": "execute_result"
    }
   ],
   "source": [
    "# best lasso estimator \n",
    "lasso_hp2 "
   ]
  },
  {
   "cell_type": "markdown",
   "id": "5d69f62c",
   "metadata": {},
   "source": [
    "This lasso model/estimator  alpha is not different from the initial one. we hypothesize no amelioration in performance with respect to gbm estimator. "
   ]
  },
  {
   "cell_type": "code",
   "execution_count": 645,
   "id": "b2ee09ee",
   "metadata": {},
   "outputs": [
    {
     "name": "stdout",
     "output_type": "stream",
     "text": [
      "           rmse\n",
      "gbm    0.021864\n",
      "lasso  0.287826\n"
     ]
    }
   ],
   "source": [
    "#  model evaluation\n",
    "# models dictionary\n",
    "models_hp = {\"gbm\" : gbm_hp2, \n",
    "             \"lasso\" :lasso_hp2}\n",
    "\n",
    "# models evaluation \n",
    "model_cross_val(models_hp,train0,y_train0,cv = 10)"
   ]
  },
  {
   "cell_type": "raw",
   "id": "6cbdf10d",
   "metadata": {},
   "source": [
    "Results :\n",
    "We evaluated our models based on rmse. \n",
    "Gbm initial rmse was 0.08 and lasso 0.85. After CV in model evaluation, we choose gbm and lasso. In validation step , they present a rmse , 0.021 and 0.34 respectively. "
   ]
  },
  {
   "cell_type": "code",
   "execution_count": 646,
   "id": "1215cba3",
   "metadata": {},
   "outputs": [
    {
     "name": "stdout",
     "output_type": "stream",
     "text": [
      "         rmse\n",
      "gbm  0.028194\n"
     ]
    }
   ],
   "source": [
    "# model validation : use test set\n",
    "model_cross_val({\"gbm\":gbm_hp2},test,y_test,cv = 2)"
   ]
  },
  {
   "cell_type": "markdown",
   "id": "3184af7c",
   "metadata": {},
   "source": [
    "GBM presents a rmse of 0.028 with test set."
   ]
  },
  {
   "cell_type": "markdown",
   "id": "822a8c09",
   "metadata": {},
   "source": [
    "Conclusion :  \n",
    "Following, hyper-parameters search, gbm shows a far better rmse of 0.021 and  lasso a rmse of 0.29.\n",
    "GBM performance improved with hyper-parameters search, while lasso did not. Therfore for tis application and in aregression setting, we would recommend gbm as final model in regression application. \n",
    "\n",
    "In test step (model evaluation)  gbm yields 0.24, wich is almost similar to the validation rmse. Howevr, we would recommend further , hyper-parameters serach and investigation to fine tune this model again with a large grid or grid strategy instead. "
   ]
  },
  {
   "cell_type": "markdown",
   "id": "b633ec29",
   "metadata": {},
   "source": [
    "Suggestion :\n",
    "We would suggest to further perform more hyper-params search to control any overfitting issue with gbm."
   ]
  },
  {
   "cell_type": "code",
   "execution_count": 647,
   "id": "1a4a42ee",
   "metadata": {},
   "outputs": [
    {
     "data": {
      "application/javascript": [
       "\n",
       "  var msg = new SpeechSynthesisUtterance();\n",
       "  msg.text = \"End of file...\";\n",
       "  window.speechSynthesis.speak(msg);\n"
      ],
      "text/plain": [
       "<IPython.core.display.Javascript object>"
      ]
     },
     "metadata": {},
     "output_type": "display_data"
    }
   ],
   "source": [
    "#vocal message \n",
    "display(Javascript(\"\"\"\n",
    "  var msg = new SpeechSynthesisUtterance();\n",
    "  msg.text = \"End of file...\";\n",
    "  window.speechSynthesis.speak(msg);\n",
    "\"\"\"))"
   ]
  }
 ],
 "metadata": {
  "celltoolbar": "Tags",
  "kernelspec": {
   "display_name": "Python 3 (ipykernel)",
   "language": "python",
   "name": "python3"
  },
  "language_info": {
   "codemirror_mode": {
    "name": "ipython",
    "version": 3
   },
   "file_extension": ".py",
   "mimetype": "text/x-python",
   "name": "python",
   "nbconvert_exporter": "python",
   "pygments_lexer": "ipython3",
   "version": "3.9.7"
  },
  "vscode": {
   "interpreter": {
    "hash": "1f400fd3917260b4df2a70e64dd1b6b0f213226eb51aa2d986fb9f86518ca676"
   }
  }
 },
 "nbformat": 4,
 "nbformat_minor": 5
}
